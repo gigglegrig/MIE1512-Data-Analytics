{
  "nbformat": 4,
  "nbformat_minor": 0,
  "metadata": {
    "colab": {
      "name": "XiSun_User_Role_Clustering_Part1.ipynb",
      "version": "0.3.2",
      "views": {},
      "default_view": {},
      "provenance": [],
      "collapsed_sections": []
    },
    "kernelspec": {
      "name": "python3",
      "display_name": "Python 3"
    },
    "accelerator": "GPU"
  },
  "cells": [
    {
      "metadata": {
        "id": "m3IQ1uM1aLm5",
        "colab_type": "text"
      },
      "cell_type": "markdown",
      "source": [
        "# Role Defining Using Behavior-based Clustering in Github Network\n",
        "\n",
        "Vesion: Final Submission <br>\n",
        "Date: 2018-04-23  \n",
        "Author: Xi Sun  \n",
        "Student Number: 1000119212  \n",
        "Course: 1512"
      ]
    },
    {
      "metadata": {
        "id": "Cxatup-6aLnA",
        "colab_type": "text"
      },
      "cell_type": "markdown",
      "source": [
        "## Introduction\n",
        "The goal of this reseach project is to investigate the behavior-based roles in Github users using unsupervided clustering algorithm.\n",
        "\n",
        "In other online social-networks, such as Facebook, Youtube and Telecommunication, the behavior-based user roles has been investigated by analyzing user's social-network graphical property, as well as statistics of user's activity. Users are modelled based on those features, and are divided into distinct groups with unsupervised K-means algorithms.\n",
        "\n",
        "In this project, similar method will be applied to the social-network in Github users. In the following analysis, Github user's acticity data would be collected, and the social network graph based on the follow relationship among users would be estabilished. The aggregated user acitivity data and topological metrics calculated based on the follow network would be comibined and used as user features. Those features would be clustered in to different groups. User roles represented by the cluster centroids will be identified and analyzed.\n",
        "\n",
        "The bibliograph containing the papers that provide the inspiration for this project are listed at the bottom of the notebook. The following paper is selected the main paper that provides the theoritical and algorithmitic fundation for this project.\n",
        "> *** T. Zhu, B. Wang, B. Wu, and C. Zhu, “Role defining using behavior- based clustering in telecommunication network,” Expert Systems with Applications, vol. 38, no. 4, pp. 3902–3908, 2011.***\n",
        "****\n",
        "Following the similar methodology in the original paper, the analysis went through 4 steps:\n",
        "- Data Collection\n",
        "  - User activity and follow relationship data on Github was extracted from GHTorrent data hosted on Goolge Bigquery. The desired information was queried with certain filtering condition.\n",
        "  - Resulting tables including both the user activity count and follow network relationship.\n",
        "- Graph Modeling\n",
        "  - Follow network was generated with python-iGraph. The directed graph contains 1.5 million user nodes and 11 million edges representing follow relationship.\n",
        "  - Various topological features were calculated, such as pagerank, betweenness, closeness and transitivity.\n",
        "- Feature Exploration and Preprocessing\n",
        "  - Features table was merged from topological feature table and user activity table\n",
        "  - Each feature was carefully explored. The distribution was examined using q-q plot. Corresponding filtering strategies were determined\n",
        "  - Filtering conditions were applied to clean the data\n",
        "  - Featurs were scaled into standard normal distribution, for the reason that k-means clustering is sensitive to high variance and skewed features.\n",
        "- Clustering\n",
        "  - According to both the guidance paper and other paper comparing multiple clustering algorithms [8], bisecting k-means algroithm was used to cluster the users. According to the papers, bisecting k-means on average has better performance than k-means, and tends to give more stable splits with less skewed cluster sizes.\n",
        "  - Elbow method was used to determine the optimal number of cluster to use, k was experimented in range [2,20], 8 was determined to be the optimal choice.\n",
        "  - Users were divided in to 8 clusters, and their centroid were recorded.\n",
        "- Role Identification and Explaination\n",
        "  - Cluster centroids were scaled into range [1,10] to facilitate the visualization, for the reason that we only care about the relative magnitude of each feature among clusters.\n",
        "  - Cluster centroides were visualized, and each role type was identified and explained combined with the unscaled average features of clusters.\n",
        "\n",
        "Finally the lessons learned and possible defects in the analysis are identified, and possible improvement is proposed as future work.\n",
        "****\n"
      ]
    },
    {
      "metadata": {
        "id": "L8L7QRF8aLnD",
        "colab_type": "text"
      },
      "cell_type": "markdown",
      "source": [
        "## Project Stages\n",
        "The project is divided through 3 iterations based on the CRISP-DM chart. Each step is described as below: \n",
        "****\n",
        "- ** Version 1:   **\n",
        "    - Data Understanding\n",
        "        - Collect Initial Data\n",
        "        - Explore and Describe Data\n",
        "            - Metadata and Basic Questions\n",
        "        - Verify Data Quality\n",
        "    - Data Preparation\n",
        "        - Select Data\n",
        "        - Clean Data\n",
        "        - Construct Data\n",
        "        - Integrate Data\n",
        "\n",
        "- ** Verison 2:**\n",
        "    - Modelling\n",
        "        - Select Modeling Technique\n",
        "        - Further Clean and Construct data based on selected model\n",
        "        - Generate Test Design\n",
        "        - Build Model\n",
        "        - Assess Model\n",
        "- **Version 3:  **\n",
        "    - Adding explanatory sections to show the purpose of each step\n",
        "    - Explain the insights from the modeling result\n",
        "    - Review the experiment and lessons learned\n",
        "  ****"
      ]
    },
    {
      "metadata": {
        "id": "cY9IYWL9aLnF",
        "colab_type": "text"
      },
      "cell_type": "markdown",
      "source": [
        "## Summary for 3 iterations & Time Spent\n",
        "****\n",
        "**Version 1 Time Allocation**  \n",
        "During the 1st iteration, the following activies were performed:\n",
        "\n",
        "- Determined best Github dataset to be used within Group (2 hrs)\n",
        "    - Group discussion on the required features, and possible data cleaning strategies\n",
        "    - Browsed Github Archive, BigQuery Public Github Dataset, and GHTorrent dataset.\n",
        "    - Analyzed the schema of tables from 3 data sources.\n",
        "    - Determined to stick with GHTorrent using Google's BigQuery.\n",
        "\n",
        "- Determined schema of the desired table to be used for modeling (1 hr)\n",
        "    - Reviewed the chosen papers from literature review\n",
        "    - Combined with the features available from the offered GHTorrent tables\n",
        "    - Decided the schema of final tables to be produced\n",
        "\n",
        "- Extracted intermidiate tables and Explore with histogram (2 hr)\n",
        "    - Manipulate multiple tables to produce intermidiate features\n",
        "    - Generate histogram to explore the distribution of each feature\n",
        "    - Evaluate the distribution, determine potential filter condition for each feature\n",
        "\n",
        "- Built final tables based on the intermidiate tables (1 hr)\n",
        "    - Filter out less meaningful data\n",
        "    - Combine the intermediate tables into the final table to be used in the modeling stage.\n",
        "\n",
        "- Researched potential modeling technique and tools (4 hrs)\n",
        "    - Experimented with ways to export BigQuery tables, including pandas.gbq, spark-bigquery and BigQuery Interpreter.\n",
        "    - Experimented with different environments JupyterNotebook(colab), IBM Zeppline, Databricks.\n",
        "    - Decided to use Google Colab to build graph with iGraph package, and pySpark ML on Databricks platform for the k-means clustering.    \n",
        "    \n",
        "**Version 2 Time Allocation**               \n",
        "During the 2nd iteration, the following activies were performed:\n",
        "- Graph Modelling in Google Colaboratory (4 hrs)\n",
        "  - The follow-network data from Version 1 is used in this analysis, the graph contains 1 million nodes and 11 million edges.\n",
        "  - Generate the follow network usign python-iGraph package.\n",
        "  - Various topological featurs for each node were calculated. For example, pagerank, betweenness, closeness and transitivity.\n",
        "  - The calculated topological features were combined with the user activity features as the input for the clustering algorithm.\n",
        "- Feature Exploration and preprocessing in Databricks (2hrs)\n",
        "  - Import the feature table in to the Databricks notebook, parallelized into RDD.\n",
        "  - Analyzed distribution of each feature using pySparkSQL \n",
        "  - Determined abnormal range and filtering conditions\n",
        "  - Scaled features into standard normal distribution.  \n",
        "- k-means Clustering (3 hr)\n",
        "  - Converted features to Spark Vector data structure\n",
        "  - Experimented with both k-means++ and bisecting k-means to evaluate clustering quality\n",
        "  - Determined the optimal k-value \n",
        "  - Visualized cluster centroids\n",
        "- Role Identification (4 hr)\n",
        "  - Attempted to identify each role type based on their features\n",
        "  \n",
        "**Version 3 Time Allocation**  \n",
        "The framework of the analysis are basically done in the previous 2 iterations. This iteration aims to make the report more readable.\n",
        "- Adding explainary sections (3hrs)\n",
        "  - For each section of work, explanatary paragraphs were added to improve the report readability. \n",
        "  - Added insights gained from each section, which gives guidance to the following steps.\n",
        "- Lessons Learned and Future Works Summary (1hr)\n",
        "  - Reviewed the work done in all iterations, summarized the possible improvement and proposed possible future works.\n",
        "  ****"
      ]
    },
    {
      "metadata": {
        "id": "7EOXM18SReop",
        "colab_type": "text"
      },
      "cell_type": "markdown",
      "source": [
        "## Basic Questions on Data Structure, Granularity, Temporality and Scope.\n",
        "Before the start of the project, a few questions are proposed, and will be considered for the future processing. Those questions serve as guidelines on the data processing process, which will significantly affect the quality of the analysis.\n",
        "\n",
        "  ****\n",
        "**Basic Questions to Assess Structure**\n",
        "- Do all records in the dataset contain the same fields?\n",
        "  - Answer: Yes. All of the data to be gathered are from the same relational database hosted on Bigquery. The well structured relational tables ensure the records have same fieds.\n",
        "- How can you access the same fields across records? By position? By name?\n",
        "  - Answer: After been collected, the data in each fields will be analyzed in terms of distribution, min, max, mean and median values observation. The Quantile-Quantile plots will be used to visualize the distribution, and the abnormal region will be analyzed closely.\n",
        "- How are the records delimited/separated in the dataset?\n",
        "  - Answer: The records are discreted in the scope of the analysis, the records are limited to be the distinct users appeared in the follow network.\n",
        "- Any records fields encoded?\n",
        "  - Answer: No. The features to be analyzed are all discrete values from either the aggregated count of user activities or the topological metrics calculated for each user.\n",
        "- What are the relationship types between records and the record fields?\n",
        "  - Answer: The relationship is singular. Meaning that for a certain primary key (user in this case), all the aggregated and topological metrics are unique.\n",
        "****\n",
        "**Basic Questions to Assess Data Granularity **\n",
        "- What kind of thing (person, object, relationship, event, etc.) do the records represent?\n",
        "  - Answer: Each record stands for a distinct user in the Github follow network. The features are calculated based on their Github lifecycle.\n",
        "- Are the records homogeneous (represent the same kinds of things)? Or heterogeneous?\n",
        "  - Answer: The records are homogeneous, each field for users represents the same metric.\n",
        "****\n",
        "**Basic Question to Assess Data Accuracy**\n",
        "- Accuracy related to the mechanism that produce the data:\n",
        "  - Answer: The data source is very reliable, the activities shown in the source tables are the activities actually happened on Github server. Therefore, the error from the data source are negligible.\n",
        "- Distribution of inaccuracies across dataset:\n",
        "  - Answer: As said, the accuracy from the data source is negligible, however, the abnormal user behaviors will cause abnormal records. The abnormal distribution, and the proportion of abnormal records will be carefully analyzed in the exploratary study.\n",
        "****\n",
        "**Basic Questions to Assess Data Temporality**\n",
        "- When was the dataset collected?\n",
        "  - Answer: The data is collected from the GHTorrent copy hosted on Github Bigquery. The source data was collected continuously over the Githubt's lifecycle.\n",
        "- Were all the records and record fields collected/measured at the same time? If not, is the temporal range significant?\n",
        "  - Answer: The source data are aggregated over the Github's lifecycle, they all have consistend definition over the time period, therfore, the temporal range is not affecting the data quality.\n",
        "- Are the timestamps associated with collection of the data known and available (as a record field) or as associated metadata?\n",
        "  - Answer: Yes the timestamps are all available, but since this analysis only involves the aggregated records in the original data, the timestamps is not affecting the analysis.\n",
        "****\n",
        "**Basic Questions to Assess Data Scope:**\n",
        "- Given the granularity of the dataset, what characteristics of the things (e.g., people, objects, relationship, events, etc.) represented by the records are captured by the record fields? What characteristics are not captured?\n",
        "  - Answer: The aggregated activity counts, such as pull_request, commit, repo_watch, in/out degree are captured over the lifetime of those users. The follow relationship up to the 2017-May-01 are captured as well. However, the time sensitive user activities are not considered. For example, the different behavior patterns for a user in several consecutive time periods are not considered.\n",
        "- For the analysis that you want to perform, can you deduce or infer additional relevant characteristics from the ones that you have? \n",
        "  - Answer: Using the raw data, the topological metrics for users in the follow network will be infered/calculated. Since the topological features to be calculated are well defined in the graph theory, the inferred/calculated value will be accurate if the given network is well constructed.\n",
        "- Are the same record fields available for all records? \n",
        "  - Answer: Yes. Those fields are all available through counting. The missing fields are simply 0 count.\n",
        "  ****\n",
        "  "
      ]
    },
    {
      "metadata": {
        "id": "VbPkpoYk9QlE",
        "colab_type": "text"
      },
      "cell_type": "markdown",
      "source": [
        "## Data Retrieval from Google BigQuery\n",
        "**This section contains the SQL queries that used to extract Github user activity and follow network data from Goolge Bigquery.**  \n",
        "In this section, data extraction were performed on GHTorrent's copy hosted on Google's Bigquery platform. The GHTorrent data hosted on the Google Bigquery including 21 tables containing various user activity and repository information. The target table to be extracted including the Github user activity counts, as well as the follow network data. The retrieval process follow the suggestions in the \"Promises and Perils in Mining Github data\"[6].  \n",
        "\n",
        "Multiple processes were performed in order to retrieve the desired data structure from the raw dataset. Those steps are described as below:\n",
        "- Activie user filtering:\n",
        "  - Commit number of each user are counted, and visualized with the histogram\n",
        "  - User with commit count less than 10 are discarded as inactive users\n",
        "- Follow network user filtering:\n",
        "  - As per the focus of this analysi, users are filtered out if they are not part of the follow network in Github\n",
        "  - Follow ralationship data is collected, which can be used to generate follow network in the later steps\n",
        "  - Indegree and outdegree per user was calculated from the follow network data\n",
        "- User activity counting:\n",
        "  - Multiple user activities were counted for active users in the follow network, such as commit count, watch count, pull request count.\n",
        "- Feature table generating:\n",
        "  - Resulting tables are generated by combining the relevant information and applying filters.\n",
        "\n",
        "The SQL queries below are the key queries used in the above stated retrieval process, the comment on the top part of each cell explains the function of the query."
      ]
    },
    {
      "metadata": {
        "id": "5Zy0D7G3DOl5",
        "colab_type": "text"
      },
      "cell_type": "markdown",
      "source": [
        "- The commit count was calculated for all users in Github"
      ]
    },
    {
      "metadata": {
        "id": "-grqOap3aLn2",
        "colab_type": "code",
        "colab": {
          "autoexec": {
            "startup": false,
            "wait_interval": 0
          }
        }
      },
      "cell_type": "code",
      "source": [
        "# -- select commiter_id & commit_count per committer\n",
        "# SELECT committer_id, COUNT(committer_id) as commit_count\n",
        "# FROM [ghtorrent-bq:ght_2017_05_01.commits] \n",
        "# GROUP BY committer_id \n"
      ],
      "execution_count": 0,
      "outputs": []
    },
    {
      "metadata": {
        "id": "yfNBEG48EGxv",
        "colab_type": "text"
      },
      "cell_type": "markdown",
      "source": [
        "- User's commit count was shown in hisogram with bin size of 10, it's found the user with less than 10 commits accounts for 62% of the total user. Based on the observation and the paper \"Promises and Perils of mining Github  d Data\" [6], users with commit are decided to be removed."
      ]
    },
    {
      "metadata": {
        "id": "O0ty27eQaLn_",
        "colab_type": "code",
        "colab": {
          "autoexec": {
            "startup": false,
            "wait_interval": 0
          }
        }
      },
      "cell_type": "code",
      "source": [
        "# -- generate histogram of user_commit_count, with ratio in each bin\n",
        "# -- indicating commit_count_bin (coummit_count<10) accounts for 62% of all users. To be discarded.\n",
        "\n",
        "# SELECT *, count_in_bin/(SUM(count_in_bin) OVER ()) ratio\n",
        "# FROM\n",
        "# (\n",
        "#   SELECT  FLOOR(commit_count/10) as commit_count_bins, COUNT(committer_id) as count_in_bin\n",
        "#   FROM `elite-bedrock-197000.users.users_commit_count`\n",
        "#   GROUP BY commit_count_bins\n",
        "#   ORDER BY commit_count_bins\n",
        "# )\n",
        "\n"
      ],
      "execution_count": 0,
      "outputs": []
    },
    {
      "metadata": {
        "id": "GUDnW9bqHo8M",
        "colab_type": "text"
      },
      "cell_type": "markdown",
      "source": [
        "- Select users with commit_count > 10"
      ]
    },
    {
      "metadata": {
        "id": "RKJ79JWtaLoI",
        "colab_type": "code",
        "colab": {
          "autoexec": {
            "startup": false,
            "wait_interval": 0
          }
        }
      },
      "cell_type": "code",
      "source": [
        "# -- select user, only whose commit# > 10\n",
        "# SELECT *\n",
        "# FROM\n",
        "#   `elite-bedrock-197000.users.users_commit_count`\n",
        "# WHERE\n",
        "#   commit_count>10\n",
        "# ORDER BY commit_count\n"
      ],
      "execution_count": 0,
      "outputs": []
    },
    {
      "metadata": {
        "id": "86ha-RQ0D59T",
        "colab_type": "text"
      },
      "cell_type": "markdown",
      "source": [
        "- Users in the follow network are filtered with condition of commit_count > 10. \n",
        "- This table will be used to construct follow network in the later steps."
      ]
    },
    {
      "metadata": {
        "id": "xaMgvHJJaLoT",
        "colab_type": "code",
        "colab": {
          "autoexec": {
            "startup": false,
            "wait_interval": 0
          }
        }
      },
      "cell_type": "code",
      "source": [
        "# --Filter user, follower id for commit count >10.\n",
        "# SELECT user_id , follower_id  FROM `ghtorrent-bq.ght_2017_05_01.followers` as f\n",
        "# WHERE \n",
        "#   (f.user_id in\n",
        "#     (SELECT committer_id  FROM `elite-bedrock-197000.users.users_committed_10_more`))\n",
        "#   AND\n",
        "#   (f.follower_id in (SELECT commit_count  FROM `elite-bedrock-197000.users.users_committed_10_more`))\n",
        "# ORDER BY user_id\n"
      ],
      "execution_count": 0,
      "outputs": []
    },
    {
      "metadata": {
        "id": "uPrXRbNoJCiu",
        "colab_type": "text"
      },
      "cell_type": "markdown",
      "source": [
        "- From all users with commit_count > 10, select those distinct users in the follow network."
      ]
    },
    {
      "metadata": {
        "id": "jJDkPC4uKyLG",
        "colab_type": "code",
        "colab": {
          "autoexec": {
            "startup": false,
            "wait_interval": 0
          }
        }
      },
      "cell_type": "code",
      "source": [
        "# SELECT\n",
        "# user_id \n",
        "# FROM\n",
        "#   `elite-bedrock-197000.users.follow_network_active_users`\n",
        "#   UNION DISTINCT\n",
        "# SELECT\n",
        "# follower_id \n",
        "# FROM\n",
        "#   `elite-bedrock-197000.users.follow_network_active_users`"
      ],
      "execution_count": 0,
      "outputs": []
    },
    {
      "metadata": {
        "id": "9TwRWRgXJK3W",
        "colab_type": "text"
      },
      "cell_type": "markdown",
      "source": [
        "- Count the repository wathes made by all users"
      ]
    },
    {
      "metadata": {
        "id": "QnHGCA-jaLnO",
        "colab_type": "code",
        "colab": {
          "autoexec": {
            "startup": false,
            "wait_interval": 0
          }
        }
      },
      "cell_type": "code",
      "source": [
        "# --select watch_count per user\n",
        "# SELECT user_id, COUNT(*) watch_count\n",
        "# FROM\n",
        "#   `ghtorrent-bq.ght_2017_05_01.watchers`\n",
        "# GROUP BY user_id\n",
        "# ORDER BY watch_count desc"
      ],
      "execution_count": 0,
      "outputs": []
    },
    {
      "metadata": {
        "id": "7XV-j2RkJP7b",
        "colab_type": "text"
      },
      "cell_type": "markdown",
      "source": [
        "- Hisogram with bin size of 10 to verify the count."
      ]
    },
    {
      "metadata": {
        "id": "MHTBVqhhaLnY",
        "colab_type": "code",
        "colab": {
          "autoexec": {
            "startup": false,
            "wait_interval": 0
          }
        }
      },
      "cell_type": "code",
      "source": [
        "# -- histogram of watch\n",
        "# SELECT *, count_in_bin/(SUM(count_in_bin) OVER ()) ratio\n",
        "# FROM\n",
        "# (\n",
        "#   SELECT  FLOOR(watch_count/10) as watch_bins, COUNT(user_id) as count_in_bin\n",
        "#   FROM `elite-bedrock-197000.users.watch_count`\n",
        "#   GROUP BY watch_bins\n",
        "#   ORDER BY watch_bins\n",
        "# )"
      ],
      "execution_count": 0,
      "outputs": []
    },
    {
      "metadata": {
        "id": "O5Y_uUYtJd81",
        "colab_type": "text"
      },
      "cell_type": "markdown",
      "source": [
        "- Count In_Degree for each user by counting followers"
      ]
    },
    {
      "metadata": {
        "id": "_3RnYmYVaLnl",
        "colab_type": "code",
        "colab": {
          "autoexec": {
            "startup": false,
            "wait_interval": 0
          }
        }
      },
      "cell_type": "code",
      "source": [
        "# -- select user_id and # followers for each user\n",
        "# SELECT user_id, COUNT(user_id) FROM [ghtorrent-bq:ght_2017_05_01.followers] \n",
        "# GROUP BY user_id\n"
      ],
      "execution_count": 0,
      "outputs": []
    },
    {
      "metadata": {
        "id": "UmUzg1zbJlIt",
        "colab_type": "text"
      },
      "cell_type": "markdown",
      "source": [
        "- Count Out_Degree for each user by counting followings"
      ]
    },
    {
      "metadata": {
        "id": "lE1AkhQeaLnv",
        "colab_type": "code",
        "colab": {
          "autoexec": {
            "startup": false,
            "wait_interval": 0
          }
        }
      },
      "cell_type": "code",
      "source": [
        "# -- count of following per user\n",
        "# -- max_following \tmin_following\tavg_following\n",
        "# -- 37962\t1\t106.3690909090907\n",
        "# SELECT\n",
        "# follower_id as user_id, COUNT(*) following_count\n",
        "# FROM\n",
        "#   `ghtorrent-bq.ght_2017_05_01.followers`\n",
        "# GROUP BY user_id\n",
        "# ORDER BY following_count DESC"
      ],
      "execution_count": 0,
      "outputs": []
    },
    {
      "metadata": {
        "id": "qiHeZIBqJp4F",
        "colab_type": "text"
      },
      "cell_type": "markdown",
      "source": [
        "- Count pull requests made by each user"
      ]
    },
    {
      "metadata": {
        "id": "9v_oG71EaLod",
        "colab_type": "code",
        "colab": {
          "autoexec": {
            "startup": false,
            "wait_interval": 0
          }
        }
      },
      "cell_type": "code",
      "source": [
        "# --Pull request count per user\n",
        "# SELECT actor_id as user_id, COUNT(*) as pull_count\n",
        "# FROM\n",
        "#   `ghtorrent-bq.ght_2017_05_01.pull_request_history`\n",
        "# GROUP BY actor_id \n",
        "# HAVING actor_id IS NOT NULL\n",
        "# ORDER BY pull_count DESC\n"
      ],
      "execution_count": 0,
      "outputs": []
    },
    {
      "metadata": {
        "id": "QRusPJqQJpc9",
        "colab_type": "text"
      },
      "cell_type": "markdown",
      "source": [
        "- Left join on distinct users in the follow network to get the aggregated features for distinct user with commit_count > 10. Those aggregated features including in/out degree, pull request count, commit count and watch count."
      ]
    },
    {
      "metadata": {
        "id": "IFkavnMtaLon",
        "colab_type": "code",
        "colab": {
          "autoexec": {
            "startup": false,
            "wait_interval": 0
          }
        }
      },
      "cell_type": "code",
      "source": [
        "# --users.user_behavior_joint\n",
        "# SELECT \n",
        "#   un.user_id,\n",
        "#   IFNULL(up.pull_count,0) pull_count,\n",
        "#   IFNULL(uw.watch_count,0) watch_count,\n",
        "#   IFNULL(uc.commit_count,0) commit_count,\n",
        "#   IFNULL(ufollower.follower_count,0) as in_degree,\n",
        "#   IFNULL(ufollowing.following_count,0) as out_degree\n",
        "# FROM\n",
        "#   `elite-bedrock-197000.users.network_distinct_user` un\n",
        "# LEFT OUTER JOIN\n",
        "#   `elite-bedrock-197000.users.pull_count` up\n",
        "#   ON un.user_id = up.user_id\n",
        "# LEFT OUTER JOIN\n",
        "#   `elite-bedrock-197000.users.watch_count` uw\n",
        "#   ON un.user_id = uw.user_id\n",
        "# LEFT OUTER JOIN\n",
        "#   `elite-bedrock-197000.users.users_commit_count` uc\n",
        "#   ON un.user_id = uc.committer_id\n",
        "# LEFT OUTER JOIN\n",
        "#   `elite-bedrock-197000.users.follower_count` ufollower\n",
        "#   ON un.user_id = ufollower.user_id\n",
        "# LEFT OUTER JOIN\n",
        "#   `elite-bedrock-197000.users.following_count` ufollowing\n",
        "#   ON un.user_id = ufollowing.user_id"
      ],
      "execution_count": 0,
      "outputs": []
    },
    {
      "metadata": {
        "id": "vV2W3t6taLo5",
        "colab_type": "text"
      },
      "cell_type": "markdown",
      "source": [
        "### Final Tables\n",
        "- **Table: User_Behavior_Joint** (65MB)\n",
        "    - Consists of active user id that has appeared in the Github follow-network\n",
        "    - For each user, contians pull_count, commit_count, watch_count, in/out degree.\n",
        "    - Will be joined with the graphical properties table, which contains pageRank and betweeness.\n",
        "\n",
        "- **Table: Follow_network_active_user** (157MB)\n",
        "    - Contians user who appears in Github follow_network who has committed more than 10 times in lifecycle.\n",
        "    - Will be used to build the graph and find the graphical properites, such as pagerank and betweeness.\n",
        "    - Will be joined with the user_behavior_joint table for clustering\n",
        "    "
      ]
    },
    {
      "metadata": {
        "id": "ZxKPPUKWaLo6",
        "colab_type": "text"
      },
      "cell_type": "markdown",
      "source": [
        "## Final tables retrieved \n",
        "For the purporse of convinience and reproducability. The resulting table are exported from Google Bigquery to local .csv files.  \n",
        "The .csv files will act as the data source in the following operations."
      ]
    },
    {
      "metadata": {
        "id": "ehIevCTFaLo9",
        "colab_type": "code",
        "colab": {
          "autoexec": {
            "startup": false,
            "wait_interval": 0
          }
        }
      },
      "cell_type": "code",
      "source": [
        "import pandas as pd\n",
        "import numpy as np\n",
        "from google.colab import files"
      ],
      "execution_count": 0,
      "outputs": []
    },
    {
      "metadata": {
        "id": "WKuVxeVT4SYz",
        "colab_type": "text"
      },
      "cell_type": "markdown",
      "source": [
        "### Retrieve user_behavior table from BigQuery\n",
        "user_bahavior is read from Goolge Bigquery and downloaded as csv files. The process is commented out for convinience. The csv files are uploaded to online storage and will be imported from there when needed."
      ]
    },
    {
      "metadata": {
        "id": "k72UklxuaLpI",
        "colab_type": "code",
        "colab": {
          "autoexec": {
            "startup": false,
            "wait_interval": 0
          },
          "base_uri": "https://localhost:8080/",
          "height": 35
        },
        "outputId": "a2a970b6-cab7-440a-c54b-78dfaeca17f9",
        "executionInfo": {
          "status": "ok",
          "timestamp": 1524583083411,
          "user_tz": 240,
          "elapsed": 258,
          "user": {
            "displayName": "Frank",
            "photoUrl": "//lh6.googleusercontent.com/-z9DYEo91z-o/AAAAAAAAAAI/AAAAAAAABAo/jCCiD3JOmjs/s50-c-k-no/photo.jpg",
            "userId": "117544748237845010101"
          }
        }
      },
      "cell_type": "code",
      "source": [
        "'''retrieve user_behavior_joint table'''\n",
        "# user_behavior = pd.read_gbq(\"SELECT * FROM users.user_behavior_joint\", project_id = \"elite-bedrock-197000\")"
      ],
      "execution_count": 7,
      "outputs": [
        {
          "output_type": "execute_result",
          "data": {
            "text/plain": [
              "'retrieve user_behavior_joint table'"
            ]
          },
          "metadata": {
            "tags": []
          },
          "execution_count": 7
        }
      ]
    },
    {
      "metadata": {
        "id": "OLY-xZwKTlpM",
        "colab_type": "code",
        "colab": {
          "autoexec": {
            "startup": false,
            "wait_interval": 0
          },
          "base_uri": "https://localhost:8080/",
          "height": 35
        },
        "outputId": "35a2e151-8b5e-4008-d3e8-bb99f98075d7",
        "executionInfo": {
          "status": "ok",
          "timestamp": 1524583084130,
          "user_tz": 240,
          "elapsed": 257,
          "user": {
            "displayName": "Frank",
            "photoUrl": "//lh6.googleusercontent.com/-z9DYEo91z-o/AAAAAAAAAAI/AAAAAAAABAo/jCCiD3JOmjs/s50-c-k-no/photo.jpg",
            "userId": "117544748237845010101"
          }
        }
      },
      "cell_type": "code",
      "source": [
        "'''\n",
        "download table extracted from BigQuery to .csv, will be used in the future\n",
        "'''\n",
        "# user_behavior.to_csv(\"user_behavior.csv\",index=False)\n",
        "\n",
        "# files.download(\"user_behavior.csv\")"
      ],
      "execution_count": 8,
      "outputs": [
        {
          "output_type": "execute_result",
          "data": {
            "text/plain": [
              "'\\ndownload table extracted from BigQuery to .csv, will be used in the future\\n'"
            ]
          },
          "metadata": {
            "tags": []
          },
          "execution_count": 8
        }
      ]
    },
    {
      "metadata": {
        "id": "kGZ9A4on4bNL",
        "colab_type": "text"
      },
      "cell_type": "markdown",
      "source": [
        "### Retrieve follow_network table from BigQuery\n",
        "follow_network is read from Goolge Bigquery and downloaded as csv files. The process is commented out for convinience. The csv files are uploaded to online storage and will be imported from there when needed."
      ]
    },
    {
      "metadata": {
        "id": "PtL9FcdK4JuK",
        "colab_type": "code",
        "colab": {
          "autoexec": {
            "startup": false,
            "wait_interval": 0
          },
          "base_uri": "https://localhost:8080/",
          "height": 35
        },
        "outputId": "3c8cfc27-4abf-4d92-b728-52a016b87f2c",
        "executionInfo": {
          "status": "ok",
          "timestamp": 1524583084715,
          "user_tz": 240,
          "elapsed": 257,
          "user": {
            "displayName": "Frank",
            "photoUrl": "//lh6.googleusercontent.com/-z9DYEo91z-o/AAAAAAAAAAI/AAAAAAAABAo/jCCiD3JOmjs/s50-c-k-no/photo.jpg",
            "userId": "117544748237845010101"
          }
        }
      },
      "cell_type": "code",
      "source": [
        "'''\n",
        "import follow_network_active_user table from BigQuery\n",
        "'''\n",
        "# follow_network_df = pd.read_gbq(\"SELECT * FROM users.follow_network_active_users\", project_id = \"elite-bedrock-197000\")"
      ],
      "execution_count": 9,
      "outputs": [
        {
          "output_type": "execute_result",
          "data": {
            "text/plain": [
              "'\\nimport follow_network_active_user table from BigQuery\\n'"
            ]
          },
          "metadata": {
            "tags": []
          },
          "execution_count": 9
        }
      ]
    },
    {
      "metadata": {
        "id": "83QPl3ALZ8qz",
        "colab_type": "code",
        "colab": {
          "autoexec": {
            "startup": false,
            "wait_interval": 0
          },
          "base_uri": "https://localhost:8080/",
          "height": 35
        },
        "outputId": "012ac665-ca23-4b23-d527-38c55f697d51",
        "executionInfo": {
          "status": "ok",
          "timestamp": 1524583085317,
          "user_tz": 240,
          "elapsed": 261,
          "user": {
            "displayName": "Frank",
            "photoUrl": "//lh6.googleusercontent.com/-z9DYEo91z-o/AAAAAAAAAAI/AAAAAAAABAo/jCCiD3JOmjs/s50-c-k-no/photo.jpg",
            "userId": "117544748237845010101"
          }
        }
      },
      "cell_type": "code",
      "source": [
        "'''\n",
        "Download the table from BigQuery as .csv, to be used in the future.\n",
        "'''\n",
        "# follow_network_df.to_csv(\"follow_network.csv\",index=False)\n",
        "# files.download(\"follow_network.csv\")"
      ],
      "execution_count": 10,
      "outputs": [
        {
          "output_type": "execute_result",
          "data": {
            "text/plain": [
              "'\\nDownload the table from BigQuery as .csv, to be used in the future.\\n'"
            ]
          },
          "metadata": {
            "tags": []
          },
          "execution_count": 10
        }
      ]
    },
    {
      "metadata": {
        "id": "Lre5eHZY4qv_",
        "colab_type": "text"
      },
      "cell_type": "markdown",
      "source": [
        "## Read retrived tables from .csv files.\n",
        "The above generated tables are firstly imported from Google Bigquery and then written into local csv files.\n",
        "The csv files are uploaded to the online storage. In this section, those csv files are imported from the online storage."
      ]
    },
    {
      "metadata": {
        "id": "N-A8c_MC4xM5",
        "colab_type": "text"
      },
      "cell_type": "markdown",
      "source": [
        "### read user_behavior table\n",
        "- Import and visualize the table structure"
      ]
    },
    {
      "metadata": {
        "id": "DAU_-NIs4nYl",
        "colab_type": "code",
        "colab": {
          "autoexec": {
            "startup": false,
            "wait_interval": 0
          }
        }
      },
      "cell_type": "code",
      "source": [
        "user_behavior_df = pd.read_csv(\"https://drive.google.com/uc?export=download&id=1NT3HZmrrbgUVBz5o6z_JwW5A5vRXOgJo\")"
      ],
      "execution_count": 0,
      "outputs": []
    },
    {
      "metadata": {
        "id": "QIA0n9zcaLpV",
        "colab_type": "code",
        "colab": {
          "autoexec": {
            "startup": false,
            "wait_interval": 0
          },
          "base_uri": "https://localhost:8080/",
          "height": 35
        },
        "outputId": "68553b5b-7c62-4e3d-e251-bad56e77ab94",
        "executionInfo": {
          "status": "ok",
          "timestamp": 1524583089083,
          "user_tz": 240,
          "elapsed": 277,
          "user": {
            "displayName": "Frank",
            "photoUrl": "//lh6.googleusercontent.com/-z9DYEo91z-o/AAAAAAAAAAI/AAAAAAAABAo/jCCiD3JOmjs/s50-c-k-no/photo.jpg",
            "userId": "117544748237845010101"
          }
        }
      },
      "cell_type": "code",
      "source": [
        "user_behavior_df.shape"
      ],
      "execution_count": 12,
      "outputs": [
        {
          "output_type": "execute_result",
          "data": {
            "text/plain": [
              "(1417742, 6)"
            ]
          },
          "metadata": {
            "tags": []
          },
          "execution_count": 12
        }
      ]
    },
    {
      "metadata": {
        "id": "DVbyJ594aLpc",
        "colab_type": "code",
        "colab": {
          "autoexec": {
            "startup": false,
            "wait_interval": 0
          },
          "base_uri": "https://localhost:8080/",
          "height": 1548
        },
        "outputId": "8ca075c9-b806-4273-cf4e-a03893d8f72f",
        "executionInfo": {
          "status": "ok",
          "timestamp": 1524583090053,
          "user_tz": 240,
          "elapsed": 583,
          "user": {
            "displayName": "Frank",
            "photoUrl": "//lh6.googleusercontent.com/-z9DYEo91z-o/AAAAAAAAAAI/AAAAAAAABAo/jCCiD3JOmjs/s50-c-k-no/photo.jpg",
            "userId": "117544748237845010101"
          }
        }
      },
      "cell_type": "code",
      "source": [
        "user_behavior_df.head(50)"
      ],
      "execution_count": 13,
      "outputs": [
        {
          "output_type": "execute_result",
          "data": {
            "text/html": [
              "<div>\n",
              "<style scoped>\n",
              "    .dataframe tbody tr th:only-of-type {\n",
              "        vertical-align: middle;\n",
              "    }\n",
              "\n",
              "    .dataframe tbody tr th {\n",
              "        vertical-align: top;\n",
              "    }\n",
              "\n",
              "    .dataframe thead th {\n",
              "        text-align: right;\n",
              "    }\n",
              "</style>\n",
              "<table border=\"1\" class=\"dataframe\">\n",
              "  <thead>\n",
              "    <tr style=\"text-align: right;\">\n",
              "      <th></th>\n",
              "      <th>user_id</th>\n",
              "      <th>pull_count</th>\n",
              "      <th>watch_count</th>\n",
              "      <th>commit_count</th>\n",
              "      <th>in_degree</th>\n",
              "      <th>out_degree</th>\n",
              "    </tr>\n",
              "  </thead>\n",
              "  <tbody>\n",
              "    <tr>\n",
              "      <th>0</th>\n",
              "      <td>184823</td>\n",
              "      <td>408</td>\n",
              "      <td>913</td>\n",
              "      <td>2181</td>\n",
              "      <td>49</td>\n",
              "      <td>246</td>\n",
              "    </tr>\n",
              "    <tr>\n",
              "      <th>1</th>\n",
              "      <td>15119</td>\n",
              "      <td>2544</td>\n",
              "      <td>44</td>\n",
              "      <td>2033</td>\n",
              "      <td>33</td>\n",
              "      <td>1933</td>\n",
              "    </tr>\n",
              "    <tr>\n",
              "      <th>2</th>\n",
              "      <td>2163</td>\n",
              "      <td>771</td>\n",
              "      <td>53</td>\n",
              "      <td>2021</td>\n",
              "      <td>30</td>\n",
              "      <td>7760</td>\n",
              "    </tr>\n",
              "    <tr>\n",
              "      <th>3</th>\n",
              "      <td>5738423</td>\n",
              "      <td>5</td>\n",
              "      <td>200</td>\n",
              "      <td>167</td>\n",
              "      <td>85</td>\n",
              "      <td>52</td>\n",
              "    </tr>\n",
              "    <tr>\n",
              "      <th>4</th>\n",
              "      <td>243997</td>\n",
              "      <td>80</td>\n",
              "      <td>25</td>\n",
              "      <td>1965</td>\n",
              "      <td>23</td>\n",
              "      <td>36</td>\n",
              "    </tr>\n",
              "    <tr>\n",
              "      <th>5</th>\n",
              "      <td>11300927</td>\n",
              "      <td>8</td>\n",
              "      <td>29</td>\n",
              "      <td>12</td>\n",
              "      <td>33</td>\n",
              "      <td>75</td>\n",
              "    </tr>\n",
              "    <tr>\n",
              "      <th>6</th>\n",
              "      <td>6239096</td>\n",
              "      <td>230</td>\n",
              "      <td>78</td>\n",
              "      <td>904</td>\n",
              "      <td>51</td>\n",
              "      <td>44</td>\n",
              "    </tr>\n",
              "    <tr>\n",
              "      <th>7</th>\n",
              "      <td>214791</td>\n",
              "      <td>6</td>\n",
              "      <td>379</td>\n",
              "      <td>368</td>\n",
              "      <td>52</td>\n",
              "      <td>21</td>\n",
              "    </tr>\n",
              "    <tr>\n",
              "      <th>8</th>\n",
              "      <td>8423805</td>\n",
              "      <td>35</td>\n",
              "      <td>473</td>\n",
              "      <td>1154</td>\n",
              "      <td>86</td>\n",
              "      <td>52</td>\n",
              "    </tr>\n",
              "    <tr>\n",
              "      <th>9</th>\n",
              "      <td>77789</td>\n",
              "      <td>169</td>\n",
              "      <td>675</td>\n",
              "      <td>1884</td>\n",
              "      <td>110</td>\n",
              "      <td>395</td>\n",
              "    </tr>\n",
              "    <tr>\n",
              "      <th>10</th>\n",
              "      <td>61352</td>\n",
              "      <td>313</td>\n",
              "      <td>415</td>\n",
              "      <td>1353</td>\n",
              "      <td>120</td>\n",
              "      <td>1360</td>\n",
              "    </tr>\n",
              "    <tr>\n",
              "      <th>11</th>\n",
              "      <td>14059</td>\n",
              "      <td>386</td>\n",
              "      <td>83</td>\n",
              "      <td>1054</td>\n",
              "      <td>45</td>\n",
              "      <td>109</td>\n",
              "    </tr>\n",
              "    <tr>\n",
              "      <th>12</th>\n",
              "      <td>1589791</td>\n",
              "      <td>129</td>\n",
              "      <td>189</td>\n",
              "      <td>706</td>\n",
              "      <td>34</td>\n",
              "      <td>67</td>\n",
              "    </tr>\n",
              "    <tr>\n",
              "      <th>13</th>\n",
              "      <td>934531</td>\n",
              "      <td>868</td>\n",
              "      <td>34</td>\n",
              "      <td>3098</td>\n",
              "      <td>31</td>\n",
              "      <td>45</td>\n",
              "    </tr>\n",
              "    <tr>\n",
              "      <th>14</th>\n",
              "      <td>3154382</td>\n",
              "      <td>11</td>\n",
              "      <td>2498</td>\n",
              "      <td>260</td>\n",
              "      <td>71</td>\n",
              "      <td>128</td>\n",
              "    </tr>\n",
              "    <tr>\n",
              "      <th>15</th>\n",
              "      <td>448105</td>\n",
              "      <td>491</td>\n",
              "      <td>69</td>\n",
              "      <td>4262</td>\n",
              "      <td>65</td>\n",
              "      <td>48</td>\n",
              "    </tr>\n",
              "    <tr>\n",
              "      <th>16</th>\n",
              "      <td>3346160</td>\n",
              "      <td>34</td>\n",
              "      <td>201</td>\n",
              "      <td>790</td>\n",
              "      <td>40</td>\n",
              "      <td>92</td>\n",
              "    </tr>\n",
              "    <tr>\n",
              "      <th>17</th>\n",
              "      <td>41982</td>\n",
              "      <td>58</td>\n",
              "      <td>5265</td>\n",
              "      <td>801</td>\n",
              "      <td>987</td>\n",
              "      <td>114</td>\n",
              "    </tr>\n",
              "    <tr>\n",
              "      <th>18</th>\n",
              "      <td>248010</td>\n",
              "      <td>57</td>\n",
              "      <td>369</td>\n",
              "      <td>402</td>\n",
              "      <td>27</td>\n",
              "      <td>98</td>\n",
              "    </tr>\n",
              "    <tr>\n",
              "      <th>19</th>\n",
              "      <td>191963</td>\n",
              "      <td>76</td>\n",
              "      <td>45</td>\n",
              "      <td>297</td>\n",
              "      <td>30</td>\n",
              "      <td>232</td>\n",
              "    </tr>\n",
              "    <tr>\n",
              "      <th>20</th>\n",
              "      <td>17413</td>\n",
              "      <td>494</td>\n",
              "      <td>199</td>\n",
              "      <td>10756</td>\n",
              "      <td>57</td>\n",
              "      <td>1361</td>\n",
              "    </tr>\n",
              "    <tr>\n",
              "      <th>21</th>\n",
              "      <td>43974</td>\n",
              "      <td>386</td>\n",
              "      <td>97</td>\n",
              "      <td>3165</td>\n",
              "      <td>64</td>\n",
              "      <td>65</td>\n",
              "    </tr>\n",
              "    <tr>\n",
              "      <th>22</th>\n",
              "      <td>3507531</td>\n",
              "      <td>294</td>\n",
              "      <td>263</td>\n",
              "      <td>1034</td>\n",
              "      <td>180</td>\n",
              "      <td>141</td>\n",
              "    </tr>\n",
              "    <tr>\n",
              "      <th>23</th>\n",
              "      <td>3205</td>\n",
              "      <td>4</td>\n",
              "      <td>494</td>\n",
              "      <td>350</td>\n",
              "      <td>157</td>\n",
              "      <td>51</td>\n",
              "    </tr>\n",
              "    <tr>\n",
              "      <th>24</th>\n",
              "      <td>1443719</td>\n",
              "      <td>930</td>\n",
              "      <td>126</td>\n",
              "      <td>2843</td>\n",
              "      <td>42</td>\n",
              "      <td>30</td>\n",
              "    </tr>\n",
              "    <tr>\n",
              "      <th>25</th>\n",
              "      <td>190207</td>\n",
              "      <td>2510</td>\n",
              "      <td>290</td>\n",
              "      <td>7840</td>\n",
              "      <td>34</td>\n",
              "      <td>569</td>\n",
              "    </tr>\n",
              "    <tr>\n",
              "      <th>26</th>\n",
              "      <td>232484</td>\n",
              "      <td>287</td>\n",
              "      <td>73</td>\n",
              "      <td>1027</td>\n",
              "      <td>25</td>\n",
              "      <td>149</td>\n",
              "    </tr>\n",
              "    <tr>\n",
              "      <th>27</th>\n",
              "      <td>21464</td>\n",
              "      <td>892</td>\n",
              "      <td>535</td>\n",
              "      <td>6181</td>\n",
              "      <td>122</td>\n",
              "      <td>338</td>\n",
              "    </tr>\n",
              "    <tr>\n",
              "      <th>28</th>\n",
              "      <td>8262</td>\n",
              "      <td>68</td>\n",
              "      <td>134</td>\n",
              "      <td>343</td>\n",
              "      <td>255</td>\n",
              "      <td>187</td>\n",
              "    </tr>\n",
              "    <tr>\n",
              "      <th>29</th>\n",
              "      <td>169540</td>\n",
              "      <td>487</td>\n",
              "      <td>266</td>\n",
              "      <td>1525</td>\n",
              "      <td>58</td>\n",
              "      <td>69</td>\n",
              "    </tr>\n",
              "    <tr>\n",
              "      <th>30</th>\n",
              "      <td>217914</td>\n",
              "      <td>91</td>\n",
              "      <td>19</td>\n",
              "      <td>354</td>\n",
              "      <td>24</td>\n",
              "      <td>61</td>\n",
              "    </tr>\n",
              "    <tr>\n",
              "      <th>31</th>\n",
              "      <td>184488</td>\n",
              "      <td>8</td>\n",
              "      <td>34</td>\n",
              "      <td>37</td>\n",
              "      <td>46</td>\n",
              "      <td>40</td>\n",
              "    </tr>\n",
              "    <tr>\n",
              "      <th>32</th>\n",
              "      <td>2284</td>\n",
              "      <td>275</td>\n",
              "      <td>816</td>\n",
              "      <td>1242</td>\n",
              "      <td>314</td>\n",
              "      <td>744</td>\n",
              "    </tr>\n",
              "    <tr>\n",
              "      <th>33</th>\n",
              "      <td>16265</td>\n",
              "      <td>355</td>\n",
              "      <td>387</td>\n",
              "      <td>2230</td>\n",
              "      <td>95</td>\n",
              "      <td>119</td>\n",
              "    </tr>\n",
              "    <tr>\n",
              "      <th>34</th>\n",
              "      <td>1358257</td>\n",
              "      <td>1580</td>\n",
              "      <td>78</td>\n",
              "      <td>2644</td>\n",
              "      <td>29</td>\n",
              "      <td>242</td>\n",
              "    </tr>\n",
              "    <tr>\n",
              "      <th>35</th>\n",
              "      <td>134309</td>\n",
              "      <td>38</td>\n",
              "      <td>19</td>\n",
              "      <td>186</td>\n",
              "      <td>43</td>\n",
              "      <td>139</td>\n",
              "    </tr>\n",
              "    <tr>\n",
              "      <th>36</th>\n",
              "      <td>2535653</td>\n",
              "      <td>2</td>\n",
              "      <td>234</td>\n",
              "      <td>12</td>\n",
              "      <td>96</td>\n",
              "      <td>29</td>\n",
              "    </tr>\n",
              "    <tr>\n",
              "      <th>37</th>\n",
              "      <td>1663856</td>\n",
              "      <td>5</td>\n",
              "      <td>520</td>\n",
              "      <td>277</td>\n",
              "      <td>246</td>\n",
              "      <td>49</td>\n",
              "    </tr>\n",
              "    <tr>\n",
              "      <th>38</th>\n",
              "      <td>228351</td>\n",
              "      <td>9</td>\n",
              "      <td>44</td>\n",
              "      <td>350</td>\n",
              "      <td>35</td>\n",
              "      <td>71</td>\n",
              "    </tr>\n",
              "    <tr>\n",
              "      <th>39</th>\n",
              "      <td>28831</td>\n",
              "      <td>1899</td>\n",
              "      <td>115</td>\n",
              "      <td>11257</td>\n",
              "      <td>36</td>\n",
              "      <td>1271</td>\n",
              "    </tr>\n",
              "    <tr>\n",
              "      <th>40</th>\n",
              "      <td>10879746</td>\n",
              "      <td>45</td>\n",
              "      <td>334</td>\n",
              "      <td>713</td>\n",
              "      <td>303</td>\n",
              "      <td>75</td>\n",
              "    </tr>\n",
              "    <tr>\n",
              "      <th>41</th>\n",
              "      <td>222966</td>\n",
              "      <td>11</td>\n",
              "      <td>80</td>\n",
              "      <td>97</td>\n",
              "      <td>21</td>\n",
              "      <td>80</td>\n",
              "    </tr>\n",
              "    <tr>\n",
              "      <th>42</th>\n",
              "      <td>26221</td>\n",
              "      <td>36</td>\n",
              "      <td>1380</td>\n",
              "      <td>459</td>\n",
              "      <td>242</td>\n",
              "      <td>87</td>\n",
              "    </tr>\n",
              "    <tr>\n",
              "      <th>43</th>\n",
              "      <td>30895</td>\n",
              "      <td>565</td>\n",
              "      <td>103</td>\n",
              "      <td>1246</td>\n",
              "      <td>138</td>\n",
              "      <td>75</td>\n",
              "    </tr>\n",
              "    <tr>\n",
              "      <th>44</th>\n",
              "      <td>1942516</td>\n",
              "      <td>5</td>\n",
              "      <td>2182</td>\n",
              "      <td>371</td>\n",
              "      <td>34</td>\n",
              "      <td>255</td>\n",
              "    </tr>\n",
              "    <tr>\n",
              "      <th>45</th>\n",
              "      <td>11281668</td>\n",
              "      <td>80</td>\n",
              "      <td>0</td>\n",
              "      <td>262</td>\n",
              "      <td>31</td>\n",
              "      <td>27</td>\n",
              "    </tr>\n",
              "    <tr>\n",
              "      <th>46</th>\n",
              "      <td>47556</td>\n",
              "      <td>131</td>\n",
              "      <td>713</td>\n",
              "      <td>987</td>\n",
              "      <td>149</td>\n",
              "      <td>148</td>\n",
              "    </tr>\n",
              "    <tr>\n",
              "      <th>47</th>\n",
              "      <td>3255318</td>\n",
              "      <td>623</td>\n",
              "      <td>479</td>\n",
              "      <td>1658</td>\n",
              "      <td>59</td>\n",
              "      <td>28</td>\n",
              "    </tr>\n",
              "    <tr>\n",
              "      <th>48</th>\n",
              "      <td>10838155</td>\n",
              "      <td>10</td>\n",
              "      <td>32</td>\n",
              "      <td>237</td>\n",
              "      <td>47</td>\n",
              "      <td>29</td>\n",
              "    </tr>\n",
              "    <tr>\n",
              "      <th>49</th>\n",
              "      <td>80635</td>\n",
              "      <td>39</td>\n",
              "      <td>74</td>\n",
              "      <td>179</td>\n",
              "      <td>48</td>\n",
              "      <td>41</td>\n",
              "    </tr>\n",
              "  </tbody>\n",
              "</table>\n",
              "</div>"
            ],
            "text/plain": [
              "     user_id  pull_count  watch_count  commit_count  in_degree  out_degree\n",
              "0     184823         408          913          2181         49         246\n",
              "1      15119        2544           44          2033         33        1933\n",
              "2       2163         771           53          2021         30        7760\n",
              "3    5738423           5          200           167         85          52\n",
              "4     243997          80           25          1965         23          36\n",
              "5   11300927           8           29            12         33          75\n",
              "6    6239096         230           78           904         51          44\n",
              "7     214791           6          379           368         52          21\n",
              "8    8423805          35          473          1154         86          52\n",
              "9      77789         169          675          1884        110         395\n",
              "10     61352         313          415          1353        120        1360\n",
              "11     14059         386           83          1054         45         109\n",
              "12   1589791         129          189           706         34          67\n",
              "13    934531         868           34          3098         31          45\n",
              "14   3154382          11         2498           260         71         128\n",
              "15    448105         491           69          4262         65          48\n",
              "16   3346160          34          201           790         40          92\n",
              "17     41982          58         5265           801        987         114\n",
              "18    248010          57          369           402         27          98\n",
              "19    191963          76           45           297         30         232\n",
              "20     17413         494          199         10756         57        1361\n",
              "21     43974         386           97          3165         64          65\n",
              "22   3507531         294          263          1034        180         141\n",
              "23      3205           4          494           350        157          51\n",
              "24   1443719         930          126          2843         42          30\n",
              "25    190207        2510          290          7840         34         569\n",
              "26    232484         287           73          1027         25         149\n",
              "27     21464         892          535          6181        122         338\n",
              "28      8262          68          134           343        255         187\n",
              "29    169540         487          266          1525         58          69\n",
              "30    217914          91           19           354         24          61\n",
              "31    184488           8           34            37         46          40\n",
              "32      2284         275          816          1242        314         744\n",
              "33     16265         355          387          2230         95         119\n",
              "34   1358257        1580           78          2644         29         242\n",
              "35    134309          38           19           186         43         139\n",
              "36   2535653           2          234            12         96          29\n",
              "37   1663856           5          520           277        246          49\n",
              "38    228351           9           44           350         35          71\n",
              "39     28831        1899          115         11257         36        1271\n",
              "40  10879746          45          334           713        303          75\n",
              "41    222966          11           80            97         21          80\n",
              "42     26221          36         1380           459        242          87\n",
              "43     30895         565          103          1246        138          75\n",
              "44   1942516           5         2182           371         34         255\n",
              "45  11281668          80            0           262         31          27\n",
              "46     47556         131          713           987        149         148\n",
              "47   3255318         623          479          1658         59          28\n",
              "48  10838155          10           32           237         47          29\n",
              "49     80635          39           74           179         48          41"
            ]
          },
          "metadata": {
            "tags": []
          },
          "execution_count": 13
        }
      ]
    },
    {
      "metadata": {
        "id": "TY3eJnCc5h-y",
        "colab_type": "text"
      },
      "cell_type": "markdown",
      "source": [
        "### read follow_network table\n",
        "- Import and visualize table structure"
      ]
    },
    {
      "metadata": {
        "id": "UNPdXRWE4pUc",
        "colab_type": "code",
        "colab": {
          "autoexec": {
            "startup": false,
            "wait_interval": 0
          }
        }
      },
      "cell_type": "code",
      "source": [
        "follow_network_df = pd.read_csv(\"https://www.dropbox.com/s/ggauq5457cl73ug/follow_network.csv?dl=1\")"
      ],
      "execution_count": 0,
      "outputs": []
    },
    {
      "metadata": {
        "id": "qEQ4ukCcaLpu",
        "colab_type": "code",
        "colab": {
          "autoexec": {
            "startup": false,
            "wait_interval": 0
          },
          "base_uri": "https://localhost:8080/",
          "height": 35
        },
        "outputId": "e197fa7d-3bb5-4413-ef7e-e9c7efa06eb1",
        "executionInfo": {
          "status": "ok",
          "timestamp": 1524583098498,
          "user_tz": 240,
          "elapsed": 284,
          "user": {
            "displayName": "Frank",
            "photoUrl": "//lh6.googleusercontent.com/-z9DYEo91z-o/AAAAAAAAAAI/AAAAAAAABAo/jCCiD3JOmjs/s50-c-k-no/photo.jpg",
            "userId": "117544748237845010101"
          }
        }
      },
      "cell_type": "code",
      "source": [
        "follow_network_df.shape"
      ],
      "execution_count": 15,
      "outputs": [
        {
          "output_type": "execute_result",
          "data": {
            "text/plain": [
              "(10291130, 2)"
            ]
          },
          "metadata": {
            "tags": []
          },
          "execution_count": 15
        }
      ]
    },
    {
      "metadata": {
        "id": "TD5vHqqSaLp3",
        "colab_type": "code",
        "colab": {
          "autoexec": {
            "startup": false,
            "wait_interval": 0
          },
          "base_uri": "https://localhost:8080/",
          "height": 1548
        },
        "outputId": "a7a9e447-45a1-473c-b333-73151912035e",
        "executionInfo": {
          "status": "ok",
          "timestamp": 1524583099123,
          "user_tz": 240,
          "elapsed": 280,
          "user": {
            "displayName": "Frank",
            "photoUrl": "//lh6.googleusercontent.com/-z9DYEo91z-o/AAAAAAAAAAI/AAAAAAAABAo/jCCiD3JOmjs/s50-c-k-no/photo.jpg",
            "userId": "117544748237845010101"
          }
        }
      },
      "cell_type": "code",
      "source": [
        "# visualize the follow_network_active_users table structure\n",
        "follow_network_df.head(50)"
      ],
      "execution_count": 16,
      "outputs": [
        {
          "output_type": "execute_result",
          "data": {
            "text/html": [
              "<div>\n",
              "<style scoped>\n",
              "    .dataframe tbody tr th:only-of-type {\n",
              "        vertical-align: middle;\n",
              "    }\n",
              "\n",
              "    .dataframe tbody tr th {\n",
              "        vertical-align: top;\n",
              "    }\n",
              "\n",
              "    .dataframe thead th {\n",
              "        text-align: right;\n",
              "    }\n",
              "</style>\n",
              "<table border=\"1\" class=\"dataframe\">\n",
              "  <thead>\n",
              "    <tr style=\"text-align: right;\">\n",
              "      <th></th>\n",
              "      <th>user_id</th>\n",
              "      <th>follower_id</th>\n",
              "    </tr>\n",
              "  </thead>\n",
              "  <tbody>\n",
              "    <tr>\n",
              "      <th>0</th>\n",
              "      <td>4130475</td>\n",
              "      <td>4464921</td>\n",
              "    </tr>\n",
              "    <tr>\n",
              "      <th>1</th>\n",
              "      <td>4162878</td>\n",
              "      <td>766946</td>\n",
              "    </tr>\n",
              "    <tr>\n",
              "      <th>2</th>\n",
              "      <td>4187138</td>\n",
              "      <td>129346</td>\n",
              "    </tr>\n",
              "    <tr>\n",
              "      <th>3</th>\n",
              "      <td>4195606</td>\n",
              "      <td>3096084</td>\n",
              "    </tr>\n",
              "    <tr>\n",
              "      <th>4</th>\n",
              "      <td>4224507</td>\n",
              "      <td>128586</td>\n",
              "    </tr>\n",
              "    <tr>\n",
              "      <th>5</th>\n",
              "      <td>4227584</td>\n",
              "      <td>3754996</td>\n",
              "    </tr>\n",
              "    <tr>\n",
              "      <th>6</th>\n",
              "      <td>4227845</td>\n",
              "      <td>27507</td>\n",
              "    </tr>\n",
              "    <tr>\n",
              "      <th>7</th>\n",
              "      <td>4256831</td>\n",
              "      <td>24814</td>\n",
              "    </tr>\n",
              "    <tr>\n",
              "      <th>8</th>\n",
              "      <td>4258102</td>\n",
              "      <td>30829010</td>\n",
              "    </tr>\n",
              "    <tr>\n",
              "      <th>9</th>\n",
              "      <td>4281540</td>\n",
              "      <td>618593</td>\n",
              "    </tr>\n",
              "    <tr>\n",
              "      <th>10</th>\n",
              "      <td>4292897</td>\n",
              "      <td>8753</td>\n",
              "    </tr>\n",
              "    <tr>\n",
              "      <th>11</th>\n",
              "      <td>4295485</td>\n",
              "      <td>618377</td>\n",
              "    </tr>\n",
              "    <tr>\n",
              "      <th>12</th>\n",
              "      <td>4296573</td>\n",
              "      <td>16507</td>\n",
              "    </tr>\n",
              "    <tr>\n",
              "      <th>13</th>\n",
              "      <td>4308769</td>\n",
              "      <td>57415</td>\n",
              "    </tr>\n",
              "    <tr>\n",
              "      <th>14</th>\n",
              "      <td>4310245</td>\n",
              "      <td>162837</td>\n",
              "    </tr>\n",
              "    <tr>\n",
              "      <th>15</th>\n",
              "      <td>4339867</td>\n",
              "      <td>7921475</td>\n",
              "    </tr>\n",
              "    <tr>\n",
              "      <th>16</th>\n",
              "      <td>4339959</td>\n",
              "      <td>4397935</td>\n",
              "    </tr>\n",
              "    <tr>\n",
              "      <th>17</th>\n",
              "      <td>4340056</td>\n",
              "      <td>948111</td>\n",
              "    </tr>\n",
              "    <tr>\n",
              "      <th>18</th>\n",
              "      <td>4340626</td>\n",
              "      <td>115278</td>\n",
              "    </tr>\n",
              "    <tr>\n",
              "      <th>19</th>\n",
              "      <td>4343384</td>\n",
              "      <td>166400</td>\n",
              "    </tr>\n",
              "    <tr>\n",
              "      <th>20</th>\n",
              "      <td>4363150</td>\n",
              "      <td>4262547</td>\n",
              "    </tr>\n",
              "    <tr>\n",
              "      <th>21</th>\n",
              "      <td>4382184</td>\n",
              "      <td>2632628</td>\n",
              "    </tr>\n",
              "    <tr>\n",
              "      <th>22</th>\n",
              "      <td>4382354</td>\n",
              "      <td>1493036</td>\n",
              "    </tr>\n",
              "    <tr>\n",
              "      <th>23</th>\n",
              "      <td>4392681</td>\n",
              "      <td>47707</td>\n",
              "    </tr>\n",
              "    <tr>\n",
              "      <th>24</th>\n",
              "      <td>4397191</td>\n",
              "      <td>3871</td>\n",
              "    </tr>\n",
              "    <tr>\n",
              "      <th>25</th>\n",
              "      <td>4412911</td>\n",
              "      <td>187425</td>\n",
              "    </tr>\n",
              "    <tr>\n",
              "      <th>26</th>\n",
              "      <td>4418836</td>\n",
              "      <td>4430155</td>\n",
              "    </tr>\n",
              "    <tr>\n",
              "      <th>27</th>\n",
              "      <td>4426558</td>\n",
              "      <td>422211</td>\n",
              "    </tr>\n",
              "    <tr>\n",
              "      <th>28</th>\n",
              "      <td>4430697</td>\n",
              "      <td>10170789</td>\n",
              "    </tr>\n",
              "    <tr>\n",
              "      <th>29</th>\n",
              "      <td>4430865</td>\n",
              "      <td>103452</td>\n",
              "    </tr>\n",
              "    <tr>\n",
              "      <th>30</th>\n",
              "      <td>4441087</td>\n",
              "      <td>672764</td>\n",
              "    </tr>\n",
              "    <tr>\n",
              "      <th>31</th>\n",
              "      <td>4445392</td>\n",
              "      <td>160814</td>\n",
              "    </tr>\n",
              "    <tr>\n",
              "      <th>32</th>\n",
              "      <td>4447459</td>\n",
              "      <td>448274</td>\n",
              "    </tr>\n",
              "    <tr>\n",
              "      <th>33</th>\n",
              "      <td>4449949</td>\n",
              "      <td>6796546</td>\n",
              "    </tr>\n",
              "    <tr>\n",
              "      <th>34</th>\n",
              "      <td>4453987</td>\n",
              "      <td>2052837</td>\n",
              "    </tr>\n",
              "    <tr>\n",
              "      <th>35</th>\n",
              "      <td>4456140</td>\n",
              "      <td>3076541</td>\n",
              "    </tr>\n",
              "    <tr>\n",
              "      <th>36</th>\n",
              "      <td>4460658</td>\n",
              "      <td>86033</td>\n",
              "    </tr>\n",
              "    <tr>\n",
              "      <th>37</th>\n",
              "      <td>4469347</td>\n",
              "      <td>8335582</td>\n",
              "    </tr>\n",
              "    <tr>\n",
              "      <th>38</th>\n",
              "      <td>4479096</td>\n",
              "      <td>2795318</td>\n",
              "    </tr>\n",
              "    <tr>\n",
              "      <th>39</th>\n",
              "      <td>4493201</td>\n",
              "      <td>3635782</td>\n",
              "    </tr>\n",
              "    <tr>\n",
              "      <th>40</th>\n",
              "      <td>4521191</td>\n",
              "      <td>2673845</td>\n",
              "    </tr>\n",
              "    <tr>\n",
              "      <th>41</th>\n",
              "      <td>4540508</td>\n",
              "      <td>24452</td>\n",
              "    </tr>\n",
              "    <tr>\n",
              "      <th>42</th>\n",
              "      <td>4548348</td>\n",
              "      <td>27507</td>\n",
              "    </tr>\n",
              "    <tr>\n",
              "      <th>43</th>\n",
              "      <td>4549616</td>\n",
              "      <td>44487</td>\n",
              "    </tr>\n",
              "    <tr>\n",
              "      <th>44</th>\n",
              "      <td>4556151</td>\n",
              "      <td>1891413</td>\n",
              "    </tr>\n",
              "    <tr>\n",
              "      <th>45</th>\n",
              "      <td>4566397</td>\n",
              "      <td>630996</td>\n",
              "    </tr>\n",
              "    <tr>\n",
              "      <th>46</th>\n",
              "      <td>4567450</td>\n",
              "      <td>114698</td>\n",
              "    </tr>\n",
              "    <tr>\n",
              "      <th>47</th>\n",
              "      <td>4576389</td>\n",
              "      <td>1621615</td>\n",
              "    </tr>\n",
              "    <tr>\n",
              "      <th>48</th>\n",
              "      <td>4578477</td>\n",
              "      <td>2230308</td>\n",
              "    </tr>\n",
              "    <tr>\n",
              "      <th>49</th>\n",
              "      <td>4591193</td>\n",
              "      <td>5853860</td>\n",
              "    </tr>\n",
              "  </tbody>\n",
              "</table>\n",
              "</div>"
            ],
            "text/plain": [
              "    user_id  follower_id\n",
              "0   4130475      4464921\n",
              "1   4162878       766946\n",
              "2   4187138       129346\n",
              "3   4195606      3096084\n",
              "4   4224507       128586\n",
              "5   4227584      3754996\n",
              "6   4227845        27507\n",
              "7   4256831        24814\n",
              "8   4258102     30829010\n",
              "9   4281540       618593\n",
              "10  4292897         8753\n",
              "11  4295485       618377\n",
              "12  4296573        16507\n",
              "13  4308769        57415\n",
              "14  4310245       162837\n",
              "15  4339867      7921475\n",
              "16  4339959      4397935\n",
              "17  4340056       948111\n",
              "18  4340626       115278\n",
              "19  4343384       166400\n",
              "20  4363150      4262547\n",
              "21  4382184      2632628\n",
              "22  4382354      1493036\n",
              "23  4392681        47707\n",
              "24  4397191         3871\n",
              "25  4412911       187425\n",
              "26  4418836      4430155\n",
              "27  4426558       422211\n",
              "28  4430697     10170789\n",
              "29  4430865       103452\n",
              "30  4441087       672764\n",
              "31  4445392       160814\n",
              "32  4447459       448274\n",
              "33  4449949      6796546\n",
              "34  4453987      2052837\n",
              "35  4456140      3076541\n",
              "36  4460658        86033\n",
              "37  4469347      8335582\n",
              "38  4479096      2795318\n",
              "39  4493201      3635782\n",
              "40  4521191      2673845\n",
              "41  4540508        24452\n",
              "42  4548348        27507\n",
              "43  4549616        44487\n",
              "44  4556151      1891413\n",
              "45  4566397       630996\n",
              "46  4567450       114698\n",
              "47  4576389      1621615\n",
              "48  4578477      2230308\n",
              "49  4591193      5853860"
            ]
          },
          "metadata": {
            "tags": []
          },
          "execution_count": 16
        }
      ]
    },
    {
      "metadata": {
        "id": "zy9C2t7p8zPZ",
        "colab_type": "text"
      },
      "cell_type": "markdown",
      "source": [
        "## Graphical Modeling\n",
        "Having extracted the Github follow relationship, we then want to generate the follow network graph, and calculate multiple topological metrics for each vertex(user).  \n",
        "In this section, python-iGraph, an graph package written in C with Python API, was used to generate the graph and topological metrics.  \n",
        "The following steps were performed:\n",
        "- Distinct users in the follow network are extracted, which will be used to setup vertices. There were 1.4 million vertices in the follow network.\n",
        "- After adding the vertices, the directed graph was built by adding the follow relationship as edge. Edge was added for each pair of users with follow relationship, and edge is always pointing to the user been followed. There were 10 million edges in the follow network.\n",
        "- Multiple topological metrics were calculated, such as pagerank, clustering coefficient, closeness and betweenness. The considerably large graph size resulted in extra long computation time for closeness and betweenness, therefore, the estimation value were calculated by only considering the path with distance less or equal to 2.\n",
        "- The calculated topological metrics were assigned to each user. The dataframe containing those information is exported as an .csv file, and it will be used in the clustering analysis in the spark environment."
      ]
    },
    {
      "metadata": {
        "id": "gMvoQLfc-YBT",
        "colab_type": "code",
        "colab": {
          "autoexec": {
            "startup": false,
            "wait_interval": 0
          },
          "base_uri": "https://localhost:8080/",
          "height": 237
        },
        "outputId": "9e96b6fe-cf58-49a6-9acb-3b9a632ce18f",
        "executionInfo": {
          "status": "ok",
          "timestamp": 1524583286266,
          "user_tz": 240,
          "elapsed": 186157,
          "user": {
            "displayName": "Frank",
            "photoUrl": "//lh6.googleusercontent.com/-z9DYEo91z-o/AAAAAAAAAAI/AAAAAAAABAo/jCCiD3JOmjs/s50-c-k-no/photo.jpg",
            "userId": "117544748237845010101"
          }
        }
      },
      "cell_type": "code",
      "source": [
        "!pip install python-igraph"
      ],
      "execution_count": 17,
      "outputs": [
        {
          "output_type": "stream",
          "text": [
            "Collecting python-igraph\n",
            "  Downloading https://files.pythonhosted.org/packages/0f/a0/4e7134f803737aa6eebb4e5250565ace0e2599659e22be7f7eba520ff017/python-igraph-0.7.1.post6.tar.gz (377kB)\n",
            "\u001b[K    100% |████████████████████████████████| 378kB 2.3MB/s \n",
            "\u001b[?25hBuilding wheels for collected packages: python-igraph\n",
            "  Running setup.py bdist_wheel for python-igraph ... \u001b[?25l-\b \b\\\b \b|\b \b/\b \b-\b \b\\\b \b|\b \b/\b \b-\b \b\\\b \b|\b \b/\b \b-\b \b\\\b \b|\b \b/\b \b-\b \b\\\b \b|\b \b/\b \b-\b \b\\\b \b|\b \b/\b \b-\b \b\\\b \b|\b \b/\b \b-\b \b\\\b \b|\b \b/\b \b-\b \b\\\b \b|\b \b/\b \b-\b \b\\\b \b|\b \b/\b \b-\b \b\\\b \b|\b \b/\b \b-\b \b\\\b \b|\b \b/\b \b-\b \b\\\b \b|\b \b/\b \b-\b \b\\\b \b|\b \b/\b \b-\b \b\\\b \b|\b \b/\b \b-\b \b\\\b \b|\b \b/\b \b-\b \b\\\b \b|\b \b/\b \b-\b \b\\\b \b|\b \b/\b \b-\b \b\\\b \b|\b \b/\b \b-\b \b\\\b \b|\b \b/\b \b-\b \b\\\b \b|\b \b/\b \b-\b \b\\\b \b|\b \b/\b \b-\b \b\\\b \b|\b \b/\b \b-\b \b\\\b \b|\b \b/\b \b-\b \b\\\b \b|\b \b/\b \b-\b \b\\\b \b|\b \b/\b \b-\b \b\\\b \b|\b \b/\b \b-\b \b\\\b \b|\b \b/\b \b-\b \b\\\b \b|\b \b/\b \b-\b \b\\\b \b|\b \b/\b \b-\b \b\\\b \b|\b \b/\b \b-\b \b\\\b \b|\b \b/\b \b-\b \b\\\b \b|\b \b/\b \b-\b \b\\\b \b|\b \b/\b \b-\b \b\\\b \b|\b \b/\b \b-\b \b\\\b \b|\b \b/\b \b-\b \b\\\b \b|\b \b/"
          ],
          "name": "stdout"
        },
        {
          "output_type": "stream",
          "text": [
            "\b \b-\b \b\\\b \b|\b \b/\b \b-\b \b\\\b \b|\b \b/\b \b-\b \b\\\b \b|\b \b/\b \b-\b \b\\\b \b|\b \b/\b \b-\b \b\\\b \b|\b \b/\b \b-\b \b\\\b \b|\b \b/\b \b-\b \b\\\b \b|\b \b/\b \b-\b \b\\\b \b|\b \b/\b \b-\b \b\\\b \b|\b \b/\b \b-\b \b\\\b \b|\b \b/\b \b-\b \b\\\b \b|\b \b/\b \b-\b \b\\\b \b|\b \b/\b \b-\b \b\\\b \b|\b \b/\b \b-\b \b\\\b \b|\b \b/\b \b-\b \b\\\b \b|\b \b/\b \b-\b \b\\\b \b|\b \b/\b \b-\b \b\\\b \b|\b \b/\b \b-\b \b\\\b \b|\b \b/\b \b-\b \b\\\b \b|\b \b/\b \b-\b \b\\\b \b|\b \b/\b \b-\b \b\\\b \b|\b \b/\b \b-\b \b\\\b \b|\b \b/\b \b-\b \b\\\b \b|\b \b/\b \b-\b \b\\\b \b|\b \b/\b \b-\b \b\\\b \b|\b \b/\b \b-\b \b\\\b \b|\b \b/\b \b-\b \b\\\b \b|\b \b/\b \b-\b \b\\\b \b|\b \b/\b \b-\b \b\\\b \b|\b \b/\b \b-\b \b\\\b \b|\b \b/\b \b-\b \b\\\b \b|\b \b/\b \b-\b \b\\\b \b|\b \b/\b \b-\b \b\\\b \b|\b \b/\b \b-\b \b\\\b \b|\b \b/\b \b-\b \b\\\b \b|\b \b/\b \b-\b \b\\\b \b|\b \b/\b \b-\b \b\\\b \b|\b \b/\b \b-\b \b\\\b \b|\b \b/\b \b-\b \b\\\b \b|\b \b/\b \b-\b \b\\\b \b|\b \b/\b \b-\b \b\\\b \b|\b \b/\b \b-\b \b\\\b \b|\b \b/\b \b-\b \b\\\b \b|\b \b/\b \b-\b \b\\\b \b|\b \b/\b \b-\b \b\\\b \b|\b \b/\b \b-\b \b\\\b \b|\b \b/\b \b-\b \b\\\b \b|\b \b/\b \b-\b \b\\\b \b|\b \b/\b \b-\b \b\\\b \b|\b \b/\b \b-\b \b\\\b \b|\b \b/\b \b-\b \b\\\b \b|\b \b/\b \b-\b \b\\\b \b|\b \b/\b \b-\b \b\\\b \b|\b \b/\b \b-\b \b\\\b \b|\b \b/\b \b-\b \b\\\b \b|\b \b/\b \b-\b \b\\\b \b|"
          ],
          "name": "stdout"
        },
        {
          "output_type": "stream",
          "text": [
            "\b \b/\b \b-\b \b\\\b \b|\b \b/\b \b-\b \b\\\b \b|\b \b/\b \b-\b \b\\\b \b|\b \b/\b \b-\b \b\\\b \b|\b \b/\b \b-\b \b\\\b \b|\b \b/\b \b-\b \b\\\b \b|\b \b/\b \b-\b \b\\\b \b|\b \b/\b \b-\b \b\\\b \b|\b \b/\b \b-\b \b\\\b \b|\b \b/\b \b-\b \b\\\b \b|\b \b/\b \b-\b \b\\\b \b|\b \b/\b \b-\b \b\\\b \b|\b \b/\b \b-\b \b\\\b \b|\b \b/\b \b-\b \b\\\b \b|\b \b/\b \b-\b \b\\\b \b|\b \b/\b \b-\b \b\\\b \b|\b \b/\b \b-\b \b\\\b \b|\b \b/\b \b-\b \b\\\b \b|\b \b/\b \b-\b \b\\\b \b|\b \b/\b \b-\b \b\\\b \b|\b \b/\b \b-\b \b\\\b \b|\b \b/\b \b-\b \b\\\b \b|\b \b/\b \b-\b \b\\\b \b|\b \b/\b \b-\b \b\\\b \b|\b \b/\b \b-\b \b\\\b \b|\b \b/\b \b-\b \b\\\b \b|\b \b/\b \b-\b \b\\\b \b|\b \b/\b \b-\b \b\\\b \b|\b \b/\b \b-\b \b\\\b \b|\b \b/\b \b-\b \b\\\b \b|\b \b/\b \b-\b \b\\\b \b|\b \b/\b \b-\b \b\\\b \b|\b \b/\b \b-\b \b\\\b \b|\b \b/\b \b-\b \b\\\b \b|\b \b/\b \b-\b \b\\\b \b|\b \b/\b \b-\b \b\\\b \b|\b \b/\b \b-\b \b\\\b \b|\b \b/\b \b-\b \b\\\b \b|\b \b/\b \b-\b \b\\\b \b|\b \b/\b \b-\b \b\\\b \b|\b \b/\b \b-\b \b\\\b \b|\b \b/\b \b-\b \b\\\b \b|\b \b/\b \b-\b \b\\\b \b|\b \b/\b \b-\b \b\\\b \b|\b \b/\b \b-\b \b\\\b \b|\b \b/\b \b-\b \b\\\b \b|\b \b/\b \b-\b \b\\\b \b|\b \b/\b \b-\b \b\\\b \b|\b \b/\b \b-\b \b\\\b \b|\b \b/\b \b-\b \b\\\b \b|\b \b/\b \b-\b \b\\\b \b|\b \b/\b \b-\b \b\\\b \b|\b \b/\b \b-\b \b\\\b \b|\b \b/\b \b-\b \b\\\b \b|\b \b/\b \b-\b \b\\\b \b|\b \b/\b \b-\b \b\\"
          ],
          "name": "stdout"
        },
        {
          "output_type": "stream",
          "text": [
            "\b \b|\b \b/\b \b-\b \b\\\b \b|\b \b/\b \b-\b \b\\\b \b|\b \b/\b \b-\b \b\\\b \b|\b \b/\b \b-\b \b\\\b \b|\b \b/\b \b-\b \b\\\b \b|\b \b/\b \b-\b \b\\\b \b|\b \b/\b \b-\b \b\\\b \b|\b \b/\b \b-\b \b\\\b \b|\b \b/\b \b-\b \b\\\b \b|\b \b/\b \b-\b \b\\\b \b|\b \b/\b \b-\b \b\\\b \b|\b \b/\b \b-\b \b\\\b \b|\b \b/\b \b-\b \b\\\b \b|\b \b/\b \b-\b \b\\\b \b|\b \b/\b \b-\b \b\\\b \b|\b \b/\b \b-\b \b\\\b \b|\b \b/\b \b-\b \b\\\b \b|\b \b/\b \b-\b \b\\\b \b|\b \b/\b \b-\b \b\\\b \b|\b \b/\b \b-\b \b\\\b \b|\b \b/\b \b-\b \b\\\b \b|\b \b/\b \b-\b \b\\\b \b|\b \b/\b \b-\b \b\\\b \b|\b \b/\b \b-\b \b\\\b \b|\b \b/\b \b-\b \b\\\b \b|\b \b/\b \b-\b \b\\\b \b|\b \b/\b \b-\b \b\\\b \b|\b \b/\b \b-\b \b\\\b \b|\b \b/\b \b-\b \b\\\b \b|\b \b/\b \b-\b \b\\\b \b|\b \b/\b \b-\b \b\\\b \b|\b \b/\b \b-\b \b\\\b \b|\b \b/\b \b-\b \b\\\b \b|\b \b/\b \b-\b \b\\\b \b|\b \b/\b \b-\b \b\\\b \b|\b \b/\b \b-\b \b\\\b \b|\b \b/\b \b-\b \b\\\b \b|\b \b/\b \b-\b \b\\\b \b|\b \b/\b \b-\b \b\\\b \b|\b \b/\b \b-\b \b\\\b \b|\b \b/\b \b-\b \b\\\b \b|\b \b/\b \b-\b \b\\\b \b|\b \b/\b \b-\b \b\\\b \b|\b \b/\b \b-\b \b\\\b \b|\b \b/\b \b-\b \b\\\b \b|\b \b/\b \b-\b \b\\\b \b|\b \b/\b \b-\b \b\\\b \b|\b \b/\b \b-\b \b\\\b \b|\b \b/\b \b-\b \b\\\b \b|\b \b/\b \b-\b \b\\\b \b|\b \b/\b \b-\b \b\\\b \b|\b \b/\b \b-\b \b\\\b \b|\b \b/\b \b-\b \b\\\b \b|\b \b/\b \b-\b \b\\\b \b|\b \b/\b \b-\b \b\\\b \b|\b \b/\b \b-"
          ],
          "name": "stdout"
        },
        {
          "output_type": "stream",
          "text": [
            "\b \b\\\b \b|\b \b/\b \b-\b \b\\\b \b|\b \b/\b \b-\b \b\\\b \b|\b \b/\b \b-\b \b\\\b \b|\b \b/\b \b-\b \b\\\b \b|\b \b/\b \b-\b \b\\\b \b|\b \b/\b \b-\b \b\\\b \b|\b \b/\b \b-\b \b\\\b \b|\b \b/\b \b-\b \b\\\b \b|\b \b/\b \b-\b \b\\\b \b|\b \b/\b \b-\b \bdone\n",
            "\u001b[?25h  Stored in directory: /content/.cache/pip/wheels/41/d6/02/34eebae97e25f5b87d60f4c0687e00523e3f244fa41bc3f4a7\n",
            "Successfully built python-igraph\n",
            "Installing collected packages: python-igraph\n",
            "Successfully installed python-igraph-0.7.1.post6\n",
            "\u001b[33mYou are using pip version 9.0.3, however version 10.0.1 is available.\n",
            "You should consider upgrading via the 'pip install --upgrade pip' command.\u001b[0m\n"
          ],
          "name": "stdout"
        }
      ]
    },
    {
      "metadata": {
        "id": "bsF-WkgjB-Cs",
        "colab_type": "code",
        "colab": {
          "autoexec": {
            "startup": false,
            "wait_interval": 0
          }
        }
      },
      "cell_type": "code",
      "source": [
        "import igraph as ig"
      ],
      "execution_count": 0,
      "outputs": []
    },
    {
      "metadata": {
        "id": "ZT0JeNgo_wUK",
        "colab_type": "code",
        "colab": {
          "autoexec": {
            "startup": false,
            "wait_interval": 0
          }
        }
      },
      "cell_type": "code",
      "source": [
        "# follower and following list\n",
        "user_id_ls = follow_network_df.user_id.tolist()\n",
        "follower_id_ls = follow_network_df.follower_id.tolist()"
      ],
      "execution_count": 0,
      "outputs": []
    },
    {
      "metadata": {
        "id": "v7FQIEPmXqVd",
        "colab_type": "code",
        "colab": {
          "autoexec": {
            "startup": false,
            "wait_interval": 0
          }
        }
      },
      "cell_type": "code",
      "source": [
        "# distinct user list\n",
        "unique_user_ls = list(set(user_id_ls+follower_id_ls))"
      ],
      "execution_count": 0,
      "outputs": []
    },
    {
      "metadata": {
        "id": "m4dRny6PYZDS",
        "colab_type": "code",
        "colab": {
          "autoexec": {
            "startup": false,
            "wait_interval": 0
          },
          "base_uri": "https://localhost:8080/",
          "height": 35
        },
        "outputId": "c5b689f2-d702-405b-d8c1-290a5708df1e",
        "executionInfo": {
          "status": "ok",
          "timestamp": 1524583295494,
          "user_tz": 240,
          "elapsed": 291,
          "user": {
            "displayName": "Frank",
            "photoUrl": "//lh6.googleusercontent.com/-z9DYEo91z-o/AAAAAAAAAAI/AAAAAAAABAo/jCCiD3JOmjs/s50-c-k-no/photo.jpg",
            "userId": "117544748237845010101"
          }
        }
      },
      "cell_type": "code",
      "source": [
        "# count of distinct users in network\n",
        "len(unique_user_ls)"
      ],
      "execution_count": 21,
      "outputs": [
        {
          "output_type": "execute_result",
          "data": {
            "text/plain": [
              "1417742"
            ]
          },
          "metadata": {
            "tags": []
          },
          "execution_count": 21
        }
      ]
    },
    {
      "metadata": {
        "id": "u1oNppdcRa4O",
        "colab_type": "text"
      },
      "cell_type": "markdown",
      "source": [
        "### Dataframe of unique users in the network"
      ]
    },
    {
      "metadata": {
        "id": "Ej78-1nPs7-z",
        "colab_type": "code",
        "colab": {
          "autoexec": {
            "startup": false,
            "wait_interval": 0
          }
        }
      },
      "cell_type": "code",
      "source": [
        "# create dataframe containing distinct users in the follow network.\n",
        "unique_user_df = pd.DataFrame(np.sort(unique_user_ls))"
      ],
      "execution_count": 0,
      "outputs": []
    },
    {
      "metadata": {
        "id": "FNa8fRVa2jVJ",
        "colab_type": "code",
        "colab": {
          "autoexec": {
            "startup": false,
            "wait_interval": 0
          }
        }
      },
      "cell_type": "code",
      "source": [
        "# assign index for each user\n",
        "unique_user_df['index'] = unique_user_df.index"
      ],
      "execution_count": 0,
      "outputs": []
    },
    {
      "metadata": {
        "id": "15LuXhX5pb2f",
        "colab_type": "code",
        "colab": {
          "autoexec": {
            "startup": false,
            "wait_interval": 0
          }
        }
      },
      "cell_type": "code",
      "source": [
        "unique_user_df.columns = ['user_id','index']"
      ],
      "execution_count": 0,
      "outputs": []
    },
    {
      "metadata": {
        "id": "wZ9Mp7xuulO7",
        "colab_type": "code",
        "colab": {
          "autoexec": {
            "startup": false,
            "wait_interval": 0
          },
          "base_uri": "https://localhost:8080/",
          "height": 198
        },
        "outputId": "ac0bbd40-7e72-481d-df76-e9f3a986a004",
        "executionInfo": {
          "status": "ok",
          "timestamp": 1524583299761,
          "user_tz": 240,
          "elapsed": 547,
          "user": {
            "displayName": "Frank",
            "photoUrl": "//lh6.googleusercontent.com/-z9DYEo91z-o/AAAAAAAAAAI/AAAAAAAABAo/jCCiD3JOmjs/s50-c-k-no/photo.jpg",
            "userId": "117544748237845010101"
          }
        }
      },
      "cell_type": "code",
      "source": [
        "unique_user_df.head()"
      ],
      "execution_count": 25,
      "outputs": [
        {
          "output_type": "execute_result",
          "data": {
            "text/html": [
              "<div>\n",
              "<style scoped>\n",
              "    .dataframe tbody tr th:only-of-type {\n",
              "        vertical-align: middle;\n",
              "    }\n",
              "\n",
              "    .dataframe tbody tr th {\n",
              "        vertical-align: top;\n",
              "    }\n",
              "\n",
              "    .dataframe thead th {\n",
              "        text-align: right;\n",
              "    }\n",
              "</style>\n",
              "<table border=\"1\" class=\"dataframe\">\n",
              "  <thead>\n",
              "    <tr style=\"text-align: right;\">\n",
              "      <th></th>\n",
              "      <th>user_id</th>\n",
              "      <th>index</th>\n",
              "    </tr>\n",
              "  </thead>\n",
              "  <tbody>\n",
              "    <tr>\n",
              "      <th>0</th>\n",
              "      <td>1</td>\n",
              "      <td>0</td>\n",
              "    </tr>\n",
              "    <tr>\n",
              "      <th>1</th>\n",
              "      <td>2</td>\n",
              "      <td>1</td>\n",
              "    </tr>\n",
              "    <tr>\n",
              "      <th>2</th>\n",
              "      <td>4</td>\n",
              "      <td>2</td>\n",
              "    </tr>\n",
              "    <tr>\n",
              "      <th>3</th>\n",
              "      <td>5</td>\n",
              "      <td>3</td>\n",
              "    </tr>\n",
              "    <tr>\n",
              "      <th>4</th>\n",
              "      <td>6</td>\n",
              "      <td>4</td>\n",
              "    </tr>\n",
              "  </tbody>\n",
              "</table>\n",
              "</div>"
            ],
            "text/plain": [
              "   user_id  index\n",
              "0        1      0\n",
              "1        2      1\n",
              "2        4      2\n",
              "3        5      3\n",
              "4        6      4"
            ]
          },
          "metadata": {
            "tags": []
          },
          "execution_count": 25
        }
      ]
    },
    {
      "metadata": {
        "id": "oi0trdjlvG3a",
        "colab_type": "code",
        "colab": {
          "autoexec": {
            "startup": false,
            "wait_interval": 0
          }
        }
      },
      "cell_type": "code",
      "source": [
        "# key = user_id; value = index\n",
        "user_idx_dict = unique_user_df.set_index('user_id').to_dict()['index']"
      ],
      "execution_count": 0,
      "outputs": []
    },
    {
      "metadata": {
        "id": "4Z_ZlPGpxOMS",
        "colab_type": "code",
        "colab": {
          "autoexec": {
            "startup": false,
            "wait_interval": 0
          }
        }
      },
      "cell_type": "code",
      "source": [
        "# idx_follow_network_df: convert each user_id to the corresponding vertex_idx to, to be used in igraph generation\n",
        "idx_follow_network_df = follow_network_df.applymap(lambda x: user_idx_dict[x])"
      ],
      "execution_count": 0,
      "outputs": []
    },
    {
      "metadata": {
        "id": "nJIUy51rxhQh",
        "colab_type": "code",
        "colab": {
          "autoexec": {
            "startup": false,
            "wait_interval": 0
          },
          "base_uri": "https://localhost:8080/",
          "height": 198
        },
        "outputId": "7cf1f507-eec2-447e-fbaf-da666ecf4df4",
        "executionInfo": {
          "status": "ok",
          "timestamp": 1524583324801,
          "user_tz": 240,
          "elapsed": 516,
          "user": {
            "displayName": "Frank",
            "photoUrl": "//lh6.googleusercontent.com/-z9DYEo91z-o/AAAAAAAAAAI/AAAAAAAABAo/jCCiD3JOmjs/s50-c-k-no/photo.jpg",
            "userId": "117544748237845010101"
          }
        }
      },
      "cell_type": "code",
      "source": [
        "idx_follow_network_df.head()"
      ],
      "execution_count": 28,
      "outputs": [
        {
          "output_type": "execute_result",
          "data": {
            "text/html": [
              "<div>\n",
              "<style scoped>\n",
              "    .dataframe tbody tr th:only-of-type {\n",
              "        vertical-align: middle;\n",
              "    }\n",
              "\n",
              "    .dataframe tbody tr th {\n",
              "        vertical-align: top;\n",
              "    }\n",
              "\n",
              "    .dataframe thead th {\n",
              "        text-align: right;\n",
              "    }\n",
              "</style>\n",
              "<table border=\"1\" class=\"dataframe\">\n",
              "  <thead>\n",
              "    <tr style=\"text-align: right;\">\n",
              "      <th></th>\n",
              "      <th>user_id</th>\n",
              "      <th>follower_id</th>\n",
              "    </tr>\n",
              "  </thead>\n",
              "  <tbody>\n",
              "    <tr>\n",
              "      <th>0</th>\n",
              "      <td>776803</td>\n",
              "      <td>797890</td>\n",
              "    </tr>\n",
              "    <tr>\n",
              "      <th>1</th>\n",
              "      <td>777267</td>\n",
              "      <td>271337</td>\n",
              "    </tr>\n",
              "    <tr>\n",
              "      <th>2</th>\n",
              "      <td>777743</td>\n",
              "      <td>75110</td>\n",
              "    </tr>\n",
              "    <tr>\n",
              "      <th>3</th>\n",
              "      <td>778547</td>\n",
              "      <td>651911</td>\n",
              "    </tr>\n",
              "    <tr>\n",
              "      <th>4</th>\n",
              "      <td>779358</td>\n",
              "      <td>74730</td>\n",
              "    </tr>\n",
              "  </tbody>\n",
              "</table>\n",
              "</div>"
            ],
            "text/plain": [
              "   user_id  follower_id\n",
              "0   776803       797890\n",
              "1   777267       271337\n",
              "2   777743        75110\n",
              "3   778547       651911\n",
              "4   779358        74730"
            ]
          },
          "metadata": {
            "tags": []
          },
          "execution_count": 28
        }
      ]
    },
    {
      "metadata": {
        "id": "bE8P2x61yvtu",
        "colab_type": "code",
        "colab": {
          "autoexec": {
            "startup": false,
            "wait_interval": 0
          }
        }
      },
      "cell_type": "code",
      "source": [
        "# init igraph directed graph\n",
        "g = ig.Graph(directed = True)"
      ],
      "execution_count": 0,
      "outputs": []
    },
    {
      "metadata": {
        "id": "rNKkPVJJz2iR",
        "colab_type": "code",
        "colab": {
          "autoexec": {
            "startup": false,
            "wait_interval": 0
          }
        }
      },
      "cell_type": "code",
      "source": [
        "# add users as vertices\n",
        "g.add_vertices(len(unique_user_ls))"
      ],
      "execution_count": 0,
      "outputs": []
    },
    {
      "metadata": {
        "id": "3RSgulDiz0kI",
        "colab_type": "code",
        "colab": {
          "autoexec": {
            "startup": false,
            "wait_interval": 0
          },
          "base_uri": "https://localhost:8080/",
          "height": 35
        },
        "outputId": "34183aa3-ea64-458c-df7f-10face8a5bbd",
        "executionInfo": {
          "status": "ok",
          "timestamp": 1524583327642,
          "user_tz": 240,
          "elapsed": 325,
          "user": {
            "displayName": "Frank",
            "photoUrl": "//lh6.googleusercontent.com/-z9DYEo91z-o/AAAAAAAAAAI/AAAAAAAABAo/jCCiD3JOmjs/s50-c-k-no/photo.jpg",
            "userId": "117544748237845010101"
          }
        }
      },
      "cell_type": "code",
      "source": [
        "print(g)"
      ],
      "execution_count": 31,
      "outputs": [
        {
          "output_type": "stream",
          "text": [
            "IGRAPH D--- 1417742 0 --\n"
          ],
          "name": "stdout"
        }
      ]
    },
    {
      "metadata": {
        "id": "WHOTvLi8ERTL",
        "colab_type": "code",
        "colab": {
          "autoexec": {
            "startup": false,
            "wait_interval": 0
          }
        }
      },
      "cell_type": "code",
      "source": [
        "# tuples representing edge\n",
        "edge_tuple_ls = list(zip(idx_follow_network_df.follower_id,idx_follow_network_df.user_id))"
      ],
      "execution_count": 0,
      "outputs": []
    },
    {
      "metadata": {
        "id": "_EZrjMUqEiT5",
        "colab_type": "code",
        "colab": {
          "autoexec": {
            "startup": false,
            "wait_interval": 0
          },
          "base_uri": "https://localhost:8080/",
          "height": 108
        },
        "outputId": "27eeb038-3479-46d8-cc85-92da01b68fad",
        "executionInfo": {
          "status": "ok",
          "timestamp": 1524583332503,
          "user_tz": 240,
          "elapsed": 299,
          "user": {
            "displayName": "Frank",
            "photoUrl": "//lh6.googleusercontent.com/-z9DYEo91z-o/AAAAAAAAAAI/AAAAAAAABAo/jCCiD3JOmjs/s50-c-k-no/photo.jpg",
            "userId": "117544748237845010101"
          }
        }
      },
      "cell_type": "code",
      "source": [
        "edge_tuple_ls[:5]"
      ],
      "execution_count": 33,
      "outputs": [
        {
          "output_type": "execute_result",
          "data": {
            "text/plain": [
              "[(797890, 776803),\n",
              " (271337, 777267),\n",
              " (75110, 777743),\n",
              " (651911, 778547),\n",
              " (74730, 779358)]"
            ]
          },
          "metadata": {
            "tags": []
          },
          "execution_count": 33
        }
      ]
    },
    {
      "metadata": {
        "id": "Auk48SSSz7Ql",
        "colab_type": "code",
        "colab": {
          "autoexec": {
            "startup": false,
            "wait_interval": 0
          }
        }
      },
      "cell_type": "code",
      "source": [
        "# adding edge for each follow relationship between 2 users. The edge points from\n",
        "# the following user to the user been followed.\n",
        "g.add_edges(edge_tuple_ls)"
      ],
      "execution_count": 0,
      "outputs": []
    },
    {
      "metadata": {
        "id": "F0sw0vxq0etk",
        "colab_type": "code",
        "colab": {
          "autoexec": {
            "startup": false,
            "wait_interval": 0
          },
          "base_uri": "https://localhost:8080/",
          "height": 35
        },
        "outputId": "ea84e180-4b29-48f5-c1ce-fca327e71d1b",
        "executionInfo": {
          "status": "ok",
          "timestamp": 1524583342510,
          "user_tz": 240,
          "elapsed": 276,
          "user": {
            "displayName": "Frank",
            "photoUrl": "//lh6.googleusercontent.com/-z9DYEo91z-o/AAAAAAAAAAI/AAAAAAAABAo/jCCiD3JOmjs/s50-c-k-no/photo.jpg",
            "userId": "117544748237845010101"
          }
        }
      },
      "cell_type": "code",
      "source": [
        "ig.summary(g)"
      ],
      "execution_count": 35,
      "outputs": [
        {
          "output_type": "stream",
          "text": [
            "IGRAPH D--- 1417742 10291130 -- \n"
          ],
          "name": "stdout"
        }
      ]
    },
    {
      "metadata": {
        "id": "6dkjNslMRxMs",
        "colab_type": "text"
      },
      "cell_type": "markdown",
      "source": [
        "### Calculate pagerank\n",
        "- This step focus on generating the metric, while the distribution exploration will be carefully performed in the later section."
      ]
    },
    {
      "metadata": {
        "id": "CMo85FFHE_En",
        "colab_type": "code",
        "colab": {
          "autoexec": {
            "startup": false,
            "wait_interval": 0
          }
        }
      },
      "cell_type": "code",
      "source": [
        "# calculate the pagerank for each vertex\n",
        "pagerank_list = g.pagerank()"
      ],
      "execution_count": 0,
      "outputs": []
    },
    {
      "metadata": {
        "id": "shfbd4CRGBvH",
        "colab_type": "code",
        "colab": {
          "autoexec": {
            "startup": false,
            "wait_interval": 0
          },
          "base_uri": "https://localhost:8080/",
          "height": 35
        },
        "outputId": "5577e21e-bfe1-4c40-a831-f4eda96c4414",
        "executionInfo": {
          "status": "ok",
          "timestamp": 1524583354626,
          "user_tz": 240,
          "elapsed": 419,
          "user": {
            "displayName": "Frank",
            "photoUrl": "//lh6.googleusercontent.com/-z9DYEo91z-o/AAAAAAAAAAI/AAAAAAAABAo/jCCiD3JOmjs/s50-c-k-no/photo.jpg",
            "userId": "117544748237845010101"
          }
        }
      },
      "cell_type": "code",
      "source": [
        "len(pagerank_list)"
      ],
      "execution_count": 37,
      "outputs": [
        {
          "output_type": "execute_result",
          "data": {
            "text/plain": [
              "1417742"
            ]
          },
          "metadata": {
            "tags": []
          },
          "execution_count": 37
        }
      ]
    },
    {
      "metadata": {
        "id": "RgBQ-elpGRN_",
        "colab_type": "code",
        "colab": {
          "autoexec": {
            "startup": false,
            "wait_interval": 0
          }
        }
      },
      "cell_type": "code",
      "source": [
        "# add pagerank of each user\n",
        "unique_user_df['pagerank'] = pagerank_list"
      ],
      "execution_count": 0,
      "outputs": []
    },
    {
      "metadata": {
        "id": "hqiWWYJqGh1H",
        "colab_type": "code",
        "colab": {
          "autoexec": {
            "startup": false,
            "wait_interval": 0
          },
          "base_uri": "https://localhost:8080/",
          "height": 198
        },
        "outputId": "ee2bd287-598f-411d-b79c-19e6f56cf7f6",
        "executionInfo": {
          "status": "ok",
          "timestamp": 1524583356525,
          "user_tz": 240,
          "elapsed": 299,
          "user": {
            "displayName": "Frank",
            "photoUrl": "//lh6.googleusercontent.com/-z9DYEo91z-o/AAAAAAAAAAI/AAAAAAAABAo/jCCiD3JOmjs/s50-c-k-no/photo.jpg",
            "userId": "117544748237845010101"
          }
        }
      },
      "cell_type": "code",
      "source": [
        "unique_user_df.head()"
      ],
      "execution_count": 39,
      "outputs": [
        {
          "output_type": "execute_result",
          "data": {
            "text/html": [
              "<div>\n",
              "<style scoped>\n",
              "    .dataframe tbody tr th:only-of-type {\n",
              "        vertical-align: middle;\n",
              "    }\n",
              "\n",
              "    .dataframe tbody tr th {\n",
              "        vertical-align: top;\n",
              "    }\n",
              "\n",
              "    .dataframe thead th {\n",
              "        text-align: right;\n",
              "    }\n",
              "</style>\n",
              "<table border=\"1\" class=\"dataframe\">\n",
              "  <thead>\n",
              "    <tr style=\"text-align: right;\">\n",
              "      <th></th>\n",
              "      <th>user_id</th>\n",
              "      <th>index</th>\n",
              "      <th>pagerank</th>\n",
              "    </tr>\n",
              "  </thead>\n",
              "  <tbody>\n",
              "    <tr>\n",
              "      <th>0</th>\n",
              "      <td>1</td>\n",
              "      <td>0</td>\n",
              "      <td>1.230313e-06</td>\n",
              "    </tr>\n",
              "    <tr>\n",
              "      <th>1</th>\n",
              "      <td>2</td>\n",
              "      <td>1</td>\n",
              "      <td>3.519563e-05</td>\n",
              "    </tr>\n",
              "    <tr>\n",
              "      <th>2</th>\n",
              "      <td>4</td>\n",
              "      <td>2</td>\n",
              "      <td>2.922288e-06</td>\n",
              "    </tr>\n",
              "    <tr>\n",
              "      <th>3</th>\n",
              "      <td>5</td>\n",
              "      <td>3</td>\n",
              "      <td>1.514871e-07</td>\n",
              "    </tr>\n",
              "    <tr>\n",
              "      <th>4</th>\n",
              "      <td>6</td>\n",
              "      <td>4</td>\n",
              "      <td>3.050668e-07</td>\n",
              "    </tr>\n",
              "  </tbody>\n",
              "</table>\n",
              "</div>"
            ],
            "text/plain": [
              "   user_id  index      pagerank\n",
              "0        1      0  1.230313e-06\n",
              "1        2      1  3.519563e-05\n",
              "2        4      2  2.922288e-06\n",
              "3        5      3  1.514871e-07\n",
              "4        6      4  3.050668e-07"
            ]
          },
          "metadata": {
            "tags": []
          },
          "execution_count": 39
        }
      ]
    },
    {
      "metadata": {
        "id": "HXwLRtSER4Dj",
        "colab_type": "text"
      },
      "cell_type": "markdown",
      "source": [
        "### Calculate betweenness\n",
        "- This step focus on generating the metric, while the distribution exploration will be carefully performed in the later section."
      ]
    },
    {
      "metadata": {
        "id": "YRjvh20mGjlm",
        "colab_type": "code",
        "colab": {
          "autoexec": {
            "startup": false,
            "wait_interval": 0
          },
          "base_uri": "https://localhost:8080/",
          "height": 53
        },
        "outputId": "04a8495a-e776-4d1b-c9e7-64dc1a1a7a86",
        "executionInfo": {
          "status": "ok",
          "timestamp": 1524583813497,
          "user_tz": 240,
          "elapsed": 456259,
          "user": {
            "displayName": "Frank",
            "photoUrl": "//lh6.googleusercontent.com/-z9DYEo91z-o/AAAAAAAAAAI/AAAAAAAABAo/jCCiD3JOmjs/s50-c-k-no/photo.jpg",
            "userId": "117544748237845010101"
          }
        }
      },
      "cell_type": "code",
      "source": [
        "%%time\n",
        "# calculate betweeness off each user \n",
        "betweenness_list = g.betweenness(cutoff=2)"
      ],
      "execution_count": 40,
      "outputs": [
        {
          "output_type": "stream",
          "text": [
            "CPU times: user 7min 36s, sys: 2.43 s, total: 7min 39s\n",
            "Wall time: 7min 35s\n"
          ],
          "name": "stdout"
        }
      ]
    },
    {
      "metadata": {
        "id": "snYlfz87R-wp",
        "colab_type": "code",
        "colab": {
          "autoexec": {
            "startup": false,
            "wait_interval": 0
          }
        }
      },
      "cell_type": "code",
      "source": [
        "# assign betweenness to each user\n",
        "unique_user_df['betweenness'] = betweenness_list"
      ],
      "execution_count": 0,
      "outputs": []
    },
    {
      "metadata": {
        "id": "mXCsIyvN57AU",
        "colab_type": "code",
        "colab": {
          "autoexec": {
            "startup": false,
            "wait_interval": 0
          },
          "base_uri": "https://localhost:8080/",
          "height": 198
        },
        "outputId": "1baf215e-00d4-4e06-d12f-7568b6872217",
        "executionInfo": {
          "status": "ok",
          "timestamp": 1524583814841,
          "user_tz": 240,
          "elapsed": 363,
          "user": {
            "displayName": "Frank",
            "photoUrl": "//lh6.googleusercontent.com/-z9DYEo91z-o/AAAAAAAAAAI/AAAAAAAABAo/jCCiD3JOmjs/s50-c-k-no/photo.jpg",
            "userId": "117544748237845010101"
          }
        }
      },
      "cell_type": "code",
      "source": [
        "unique_user_df.head()"
      ],
      "execution_count": 42,
      "outputs": [
        {
          "output_type": "execute_result",
          "data": {
            "text/html": [
              "<div>\n",
              "<style scoped>\n",
              "    .dataframe tbody tr th:only-of-type {\n",
              "        vertical-align: middle;\n",
              "    }\n",
              "\n",
              "    .dataframe tbody tr th {\n",
              "        vertical-align: top;\n",
              "    }\n",
              "\n",
              "    .dataframe thead th {\n",
              "        text-align: right;\n",
              "    }\n",
              "</style>\n",
              "<table border=\"1\" class=\"dataframe\">\n",
              "  <thead>\n",
              "    <tr style=\"text-align: right;\">\n",
              "      <th></th>\n",
              "      <th>user_id</th>\n",
              "      <th>index</th>\n",
              "      <th>pagerank</th>\n",
              "      <th>betweenness</th>\n",
              "    </tr>\n",
              "  </thead>\n",
              "  <tbody>\n",
              "    <tr>\n",
              "      <th>0</th>\n",
              "      <td>1</td>\n",
              "      <td>0</td>\n",
              "      <td>1.230313e-06</td>\n",
              "      <td>290.079004</td>\n",
              "    </tr>\n",
              "    <tr>\n",
              "      <th>1</th>\n",
              "      <td>2</td>\n",
              "      <td>1</td>\n",
              "      <td>3.519563e-05</td>\n",
              "      <td>84875.616545</td>\n",
              "    </tr>\n",
              "    <tr>\n",
              "      <th>2</th>\n",
              "      <td>4</td>\n",
              "      <td>2</td>\n",
              "      <td>2.922288e-06</td>\n",
              "      <td>5856.666745</td>\n",
              "    </tr>\n",
              "    <tr>\n",
              "      <th>3</th>\n",
              "      <td>5</td>\n",
              "      <td>3</td>\n",
              "      <td>1.514871e-07</td>\n",
              "      <td>306.654159</td>\n",
              "    </tr>\n",
              "    <tr>\n",
              "      <th>4</th>\n",
              "      <td>6</td>\n",
              "      <td>4</td>\n",
              "      <td>3.050668e-07</td>\n",
              "      <td>0.950000</td>\n",
              "    </tr>\n",
              "  </tbody>\n",
              "</table>\n",
              "</div>"
            ],
            "text/plain": [
              "   user_id  index      pagerank   betweenness\n",
              "0        1      0  1.230313e-06    290.079004\n",
              "1        2      1  3.519563e-05  84875.616545\n",
              "2        4      2  2.922288e-06   5856.666745\n",
              "3        5      3  1.514871e-07    306.654159\n",
              "4        6      4  3.050668e-07      0.950000"
            ]
          },
          "metadata": {
            "tags": []
          },
          "execution_count": 42
        }
      ]
    },
    {
      "metadata": {
        "id": "be_Uue6s6OJi",
        "colab_type": "text"
      },
      "cell_type": "markdown",
      "source": [
        "### Calculate closeness\n",
        "- This step focus on generating the metric, while the distribution exploration will be carefully performed in the later section."
      ]
    },
    {
      "metadata": {
        "id": "MiyWjJfFUNDU",
        "colab_type": "code",
        "colab": {
          "autoexec": {
            "startup": false,
            "wait_interval": 0
          },
          "base_uri": "https://localhost:8080/",
          "height": 53
        },
        "outputId": "67616b65-8824-4866-f5b3-b38ead8e0c08",
        "executionInfo": {
          "status": "ok",
          "timestamp": 1524586332814,
          "user_tz": 240,
          "elapsed": 2517733,
          "user": {
            "displayName": "Frank",
            "photoUrl": "//lh6.googleusercontent.com/-z9DYEo91z-o/AAAAAAAAAAI/AAAAAAAABAo/jCCiD3JOmjs/s50-c-k-no/photo.jpg",
            "userId": "117544748237845010101"
          }
        }
      },
      "cell_type": "code",
      "source": [
        "%%time\n",
        "# calculate closeness of each user\n",
        "'''\n",
        "CPU times: user 45min 34s, sys: 17.7 s, total: 45min 52s\n",
        "Wall time: 45min 33s\n",
        "'''\n",
        "closeness_list = g.closeness(cutoff=2)"
      ],
      "execution_count": 43,
      "outputs": [
        {
          "output_type": "stream",
          "text": [
            "CPU times: user 42min, sys: 10.2 s, total: 42min 10s\n",
            "Wall time: 41min 57s\n"
          ],
          "name": "stdout"
        }
      ]
    },
    {
      "metadata": {
        "id": "XeJn9dDX6d3r",
        "colab_type": "code",
        "colab": {
          "autoexec": {
            "startup": false,
            "wait_interval": 0
          }
        }
      },
      "cell_type": "code",
      "source": [
        "# assign closeness to each user\n",
        "unique_user_df['closeness'] = closeness_list"
      ],
      "execution_count": 0,
      "outputs": []
    },
    {
      "metadata": {
        "id": "lB2hZbZTYkJs",
        "colab_type": "code",
        "colab": {
          "autoexec": {
            "startup": false,
            "wait_interval": 0
          },
          "base_uri": "https://localhost:8080/",
          "height": 198
        },
        "outputId": "50c6ee33-499a-4cb3-d81d-cb9b7eed8426",
        "executionInfo": {
          "status": "ok",
          "timestamp": 1524586335652,
          "user_tz": 240,
          "elapsed": 412,
          "user": {
            "displayName": "Frank",
            "photoUrl": "//lh6.googleusercontent.com/-z9DYEo91z-o/AAAAAAAAAAI/AAAAAAAABAo/jCCiD3JOmjs/s50-c-k-no/photo.jpg",
            "userId": "117544748237845010101"
          }
        }
      },
      "cell_type": "code",
      "source": [
        "unique_user_df.head()"
      ],
      "execution_count": 45,
      "outputs": [
        {
          "output_type": "execute_result",
          "data": {
            "text/html": [
              "<div>\n",
              "<style scoped>\n",
              "    .dataframe tbody tr th:only-of-type {\n",
              "        vertical-align: middle;\n",
              "    }\n",
              "\n",
              "    .dataframe tbody tr th {\n",
              "        vertical-align: top;\n",
              "    }\n",
              "\n",
              "    .dataframe thead th {\n",
              "        text-align: right;\n",
              "    }\n",
              "</style>\n",
              "<table border=\"1\" class=\"dataframe\">\n",
              "  <thead>\n",
              "    <tr style=\"text-align: right;\">\n",
              "      <th></th>\n",
              "      <th>user_id</th>\n",
              "      <th>index</th>\n",
              "      <th>pagerank</th>\n",
              "      <th>betweenness</th>\n",
              "      <th>closeness</th>\n",
              "    </tr>\n",
              "  </thead>\n",
              "  <tbody>\n",
              "    <tr>\n",
              "      <th>0</th>\n",
              "      <td>1</td>\n",
              "      <td>0</td>\n",
              "      <td>1.230313e-06</td>\n",
              "      <td>290.079004</td>\n",
              "      <td>7.907901e-07</td>\n",
              "    </tr>\n",
              "    <tr>\n",
              "      <th>1</th>\n",
              "      <td>2</td>\n",
              "      <td>1</td>\n",
              "      <td>3.519563e-05</td>\n",
              "      <td>84875.616545</td>\n",
              "      <td>9.271834e-07</td>\n",
              "    </tr>\n",
              "    <tr>\n",
              "      <th>2</th>\n",
              "      <td>4</td>\n",
              "      <td>2</td>\n",
              "      <td>2.922288e-06</td>\n",
              "      <td>5856.666745</td>\n",
              "      <td>8.720820e-07</td>\n",
              "    </tr>\n",
              "    <tr>\n",
              "      <th>3</th>\n",
              "      <td>5</td>\n",
              "      <td>3</td>\n",
              "      <td>1.514871e-07</td>\n",
              "      <td>306.654159</td>\n",
              "      <td>8.190658e-07</td>\n",
              "    </tr>\n",
              "    <tr>\n",
              "      <th>4</th>\n",
              "      <td>6</td>\n",
              "      <td>4</td>\n",
              "      <td>3.050668e-07</td>\n",
              "      <td>0.950000</td>\n",
              "      <td>7.494212e-07</td>\n",
              "    </tr>\n",
              "  </tbody>\n",
              "</table>\n",
              "</div>"
            ],
            "text/plain": [
              "   user_id  index      pagerank   betweenness     closeness\n",
              "0        1      0  1.230313e-06    290.079004  7.907901e-07\n",
              "1        2      1  3.519563e-05  84875.616545  9.271834e-07\n",
              "2        4      2  2.922288e-06   5856.666745  8.720820e-07\n",
              "3        5      3  1.514871e-07    306.654159  8.190658e-07\n",
              "4        6      4  3.050668e-07      0.950000  7.494212e-07"
            ]
          },
          "metadata": {
            "tags": []
          },
          "execution_count": 45
        }
      ]
    },
    {
      "metadata": {
        "id": "V_hNTWoWZBRR",
        "colab_type": "text"
      },
      "cell_type": "markdown",
      "source": [
        "### Calculate transitivity (clustering_coefficiency)\n",
        "- This step focus on generating the metric, while the distribution exploration will be carefully performed in the later section."
      ]
    },
    {
      "metadata": {
        "id": "2cMc_It7Ykg0",
        "colab_type": "code",
        "colab": {
          "autoexec": {
            "startup": false,
            "wait_interval": 0
          },
          "base_uri": "https://localhost:8080/",
          "height": 53
        },
        "outputId": "ca51f275-8848-46ce-df4f-871968e793ed",
        "executionInfo": {
          "status": "ok",
          "timestamp": 1524586343170,
          "user_tz": 240,
          "elapsed": 6929,
          "user": {
            "displayName": "Frank",
            "photoUrl": "//lh6.googleusercontent.com/-z9DYEo91z-o/AAAAAAAAAAI/AAAAAAAABAo/jCCiD3JOmjs/s50-c-k-no/photo.jpg",
            "userId": "117544748237845010101"
          }
        }
      },
      "cell_type": "code",
      "source": [
        "%%time\n",
        "transitivity_list = g.transitivity_local_undirected(mode='zero')"
      ],
      "execution_count": 46,
      "outputs": [
        {
          "output_type": "stream",
          "text": [
            "CPU times: user 6.66 s, sys: 48 ms, total: 6.71 s\n",
            "Wall time: 6.68 s\n"
          ],
          "name": "stdout"
        }
      ]
    },
    {
      "metadata": {
        "id": "6I_ACkdqaAwD",
        "colab_type": "code",
        "colab": {
          "autoexec": {
            "startup": false,
            "wait_interval": 0
          }
        }
      },
      "cell_type": "code",
      "source": [
        "# assign transitivity/clustering coefficient to each user\n",
        "unique_user_df['transitivity'] = transitivity_list"
      ],
      "execution_count": 0,
      "outputs": []
    },
    {
      "metadata": {
        "id": "1m6HKGG2ctzn",
        "colab_type": "text"
      },
      "cell_type": "markdown",
      "source": [
        "## Merge vertices metrics and user_behavior_count table"
      ]
    },
    {
      "metadata": {
        "id": "fJyjZIgueVjn",
        "colab_type": "code",
        "colab": {
          "autoexec": {
            "startup": false,
            "wait_interval": 0
          },
          "base_uri": "https://localhost:8080/",
          "height": 198
        },
        "outputId": "0c09bc81-4c9d-4585-f12a-27054409a025",
        "executionInfo": {
          "status": "ok",
          "timestamp": 1524586345574,
          "user_tz": 240,
          "elapsed": 318,
          "user": {
            "displayName": "Frank",
            "photoUrl": "//lh6.googleusercontent.com/-z9DYEo91z-o/AAAAAAAAAAI/AAAAAAAABAo/jCCiD3JOmjs/s50-c-k-no/photo.jpg",
            "userId": "117544748237845010101"
          }
        }
      },
      "cell_type": "code",
      "source": [
        "# show head of user_behavior table\n",
        "user_behavior_df.head()"
      ],
      "execution_count": 48,
      "outputs": [
        {
          "output_type": "execute_result",
          "data": {
            "text/html": [
              "<div>\n",
              "<style scoped>\n",
              "    .dataframe tbody tr th:only-of-type {\n",
              "        vertical-align: middle;\n",
              "    }\n",
              "\n",
              "    .dataframe tbody tr th {\n",
              "        vertical-align: top;\n",
              "    }\n",
              "\n",
              "    .dataframe thead th {\n",
              "        text-align: right;\n",
              "    }\n",
              "</style>\n",
              "<table border=\"1\" class=\"dataframe\">\n",
              "  <thead>\n",
              "    <tr style=\"text-align: right;\">\n",
              "      <th></th>\n",
              "      <th>user_id</th>\n",
              "      <th>pull_count</th>\n",
              "      <th>watch_count</th>\n",
              "      <th>commit_count</th>\n",
              "      <th>in_degree</th>\n",
              "      <th>out_degree</th>\n",
              "    </tr>\n",
              "  </thead>\n",
              "  <tbody>\n",
              "    <tr>\n",
              "      <th>0</th>\n",
              "      <td>184823</td>\n",
              "      <td>408</td>\n",
              "      <td>913</td>\n",
              "      <td>2181</td>\n",
              "      <td>49</td>\n",
              "      <td>246</td>\n",
              "    </tr>\n",
              "    <tr>\n",
              "      <th>1</th>\n",
              "      <td>15119</td>\n",
              "      <td>2544</td>\n",
              "      <td>44</td>\n",
              "      <td>2033</td>\n",
              "      <td>33</td>\n",
              "      <td>1933</td>\n",
              "    </tr>\n",
              "    <tr>\n",
              "      <th>2</th>\n",
              "      <td>2163</td>\n",
              "      <td>771</td>\n",
              "      <td>53</td>\n",
              "      <td>2021</td>\n",
              "      <td>30</td>\n",
              "      <td>7760</td>\n",
              "    </tr>\n",
              "    <tr>\n",
              "      <th>3</th>\n",
              "      <td>5738423</td>\n",
              "      <td>5</td>\n",
              "      <td>200</td>\n",
              "      <td>167</td>\n",
              "      <td>85</td>\n",
              "      <td>52</td>\n",
              "    </tr>\n",
              "    <tr>\n",
              "      <th>4</th>\n",
              "      <td>243997</td>\n",
              "      <td>80</td>\n",
              "      <td>25</td>\n",
              "      <td>1965</td>\n",
              "      <td>23</td>\n",
              "      <td>36</td>\n",
              "    </tr>\n",
              "  </tbody>\n",
              "</table>\n",
              "</div>"
            ],
            "text/plain": [
              "   user_id  pull_count  watch_count  commit_count  in_degree  out_degree\n",
              "0   184823         408          913          2181         49         246\n",
              "1    15119        2544           44          2033         33        1933\n",
              "2     2163         771           53          2021         30        7760\n",
              "3  5738423           5          200           167         85          52\n",
              "4   243997          80           25          1965         23          36"
            ]
          },
          "metadata": {
            "tags": []
          },
          "execution_count": 48
        }
      ]
    },
    {
      "metadata": {
        "id": "MYtidD1faA9i",
        "colab_type": "code",
        "colab": {
          "autoexec": {
            "startup": false,
            "wait_interval": 0
          }
        }
      },
      "cell_type": "code",
      "source": [
        "# sort the table by user_id, as in the topological feature table above\n",
        "user_behavior_df.sort_values(by=['user_id'],axis=0,inplace=True)"
      ],
      "execution_count": 0,
      "outputs": []
    },
    {
      "metadata": {
        "id": "x9BWy1DBaBBZ",
        "colab_type": "code",
        "colab": {
          "autoexec": {
            "startup": false,
            "wait_interval": 0
          }
        }
      },
      "cell_type": "code",
      "source": [
        "user_behavior_df.reset_index(inplace=True,drop=True)"
      ],
      "execution_count": 0,
      "outputs": []
    },
    {
      "metadata": {
        "id": "liKqflbDaA6U",
        "colab_type": "code",
        "colab": {
          "autoexec": {
            "startup": false,
            "wait_interval": 0
          },
          "base_uri": "https://localhost:8080/",
          "height": 35
        },
        "outputId": "423f3569-5a60-4923-8c27-743a80e2e0c8",
        "executionInfo": {
          "status": "ok",
          "timestamp": 1524586348645,
          "user_tz": 240,
          "elapsed": 281,
          "user": {
            "displayName": "Frank",
            "photoUrl": "//lh6.googleusercontent.com/-z9DYEo91z-o/AAAAAAAAAAI/AAAAAAAABAo/jCCiD3JOmjs/s50-c-k-no/photo.jpg",
            "userId": "117544748237845010101"
          }
        }
      },
      "cell_type": "code",
      "source": [
        "user_behavior_df.shape"
      ],
      "execution_count": 51,
      "outputs": [
        {
          "output_type": "execute_result",
          "data": {
            "text/plain": [
              "(1417742, 6)"
            ]
          },
          "metadata": {
            "tags": []
          },
          "execution_count": 51
        }
      ]
    },
    {
      "metadata": {
        "id": "_VdiLk-tev84",
        "colab_type": "code",
        "colab": {
          "autoexec": {
            "startup": false,
            "wait_interval": 0
          }
        }
      },
      "cell_type": "code",
      "source": [
        "# merge graph metrics and behavior info.\n",
        "user_feature_df = user_behavior_df.merge(unique_user_df,how='inner',on='user_id')"
      ],
      "execution_count": 0,
      "outputs": []
    },
    {
      "metadata": {
        "id": "6QDWl129gytu",
        "colab_type": "code",
        "colab": {
          "autoexec": {
            "startup": false,
            "wait_interval": 0
          },
          "base_uri": "https://localhost:8080/",
          "height": 198
        },
        "outputId": "d9a6c6f2-95d5-4318-9a3c-8d9cc857236b",
        "executionInfo": {
          "status": "ok",
          "timestamp": 1524586351540,
          "user_tz": 240,
          "elapsed": 300,
          "user": {
            "displayName": "Frank",
            "photoUrl": "//lh6.googleusercontent.com/-z9DYEo91z-o/AAAAAAAAAAI/AAAAAAAABAo/jCCiD3JOmjs/s50-c-k-no/photo.jpg",
            "userId": "117544748237845010101"
          }
        }
      },
      "cell_type": "code",
      "source": [
        "user_feature_df.head()"
      ],
      "execution_count": 53,
      "outputs": [
        {
          "output_type": "execute_result",
          "data": {
            "text/html": [
              "<div>\n",
              "<style scoped>\n",
              "    .dataframe tbody tr th:only-of-type {\n",
              "        vertical-align: middle;\n",
              "    }\n",
              "\n",
              "    .dataframe tbody tr th {\n",
              "        vertical-align: top;\n",
              "    }\n",
              "\n",
              "    .dataframe thead th {\n",
              "        text-align: right;\n",
              "    }\n",
              "</style>\n",
              "<table border=\"1\" class=\"dataframe\">\n",
              "  <thead>\n",
              "    <tr style=\"text-align: right;\">\n",
              "      <th></th>\n",
              "      <th>user_id</th>\n",
              "      <th>pull_count</th>\n",
              "      <th>watch_count</th>\n",
              "      <th>commit_count</th>\n",
              "      <th>in_degree</th>\n",
              "      <th>out_degree</th>\n",
              "      <th>index</th>\n",
              "      <th>pagerank</th>\n",
              "      <th>betweenness</th>\n",
              "      <th>closeness</th>\n",
              "      <th>transitivity</th>\n",
              "    </tr>\n",
              "  </thead>\n",
              "  <tbody>\n",
              "    <tr>\n",
              "      <th>0</th>\n",
              "      <td>1</td>\n",
              "      <td>13</td>\n",
              "      <td>59</td>\n",
              "      <td>55</td>\n",
              "      <td>22</td>\n",
              "      <td>28</td>\n",
              "      <td>0</td>\n",
              "      <td>1.230313e-06</td>\n",
              "      <td>290.079004</td>\n",
              "      <td>7.907901e-07</td>\n",
              "      <td>0.106312</td>\n",
              "    </tr>\n",
              "    <tr>\n",
              "      <th>1</th>\n",
              "      <td>2</td>\n",
              "      <td>228</td>\n",
              "      <td>706</td>\n",
              "      <td>12846</td>\n",
              "      <td>404</td>\n",
              "      <td>356</td>\n",
              "      <td>1</td>\n",
              "      <td>3.519563e-05</td>\n",
              "      <td>84875.616545</td>\n",
              "      <td>9.271834e-07</td>\n",
              "      <td>0.015334</td>\n",
              "    </tr>\n",
              "    <tr>\n",
              "      <th>2</th>\n",
              "      <td>4</td>\n",
              "      <td>148</td>\n",
              "      <td>248</td>\n",
              "      <td>1538</td>\n",
              "      <td>79</td>\n",
              "      <td>149</td>\n",
              "      <td>2</td>\n",
              "      <td>2.922288e-06</td>\n",
              "      <td>5856.666745</td>\n",
              "      <td>8.720820e-07</td>\n",
              "      <td>0.058108</td>\n",
              "    </tr>\n",
              "    <tr>\n",
              "      <th>3</th>\n",
              "      <td>5</td>\n",
              "      <td>1224</td>\n",
              "      <td>64</td>\n",
              "      <td>12251</td>\n",
              "      <td>3</td>\n",
              "      <td>285</td>\n",
              "      <td>3</td>\n",
              "      <td>1.514871e-07</td>\n",
              "      <td>306.654159</td>\n",
              "      <td>8.190658e-07</td>\n",
              "      <td>0.024017</td>\n",
              "    </tr>\n",
              "    <tr>\n",
              "      <th>4</th>\n",
              "      <td>6</td>\n",
              "      <td>8</td>\n",
              "      <td>49</td>\n",
              "      <td>109913</td>\n",
              "      <td>4</td>\n",
              "      <td>5</td>\n",
              "      <td>4</td>\n",
              "      <td>3.050668e-07</td>\n",
              "      <td>0.950000</td>\n",
              "      <td>7.494212e-07</td>\n",
              "      <td>0.392857</td>\n",
              "    </tr>\n",
              "  </tbody>\n",
              "</table>\n",
              "</div>"
            ],
            "text/plain": [
              "   user_id  pull_count  watch_count  commit_count  in_degree  out_degree  \\\n",
              "0        1          13           59            55         22          28   \n",
              "1        2         228          706         12846        404         356   \n",
              "2        4         148          248          1538         79         149   \n",
              "3        5        1224           64         12251          3         285   \n",
              "4        6           8           49        109913          4           5   \n",
              "\n",
              "   index      pagerank   betweenness     closeness  transitivity  \n",
              "0      0  1.230313e-06    290.079004  7.907901e-07      0.106312  \n",
              "1      1  3.519563e-05  84875.616545  9.271834e-07      0.015334  \n",
              "2      2  2.922288e-06   5856.666745  8.720820e-07      0.058108  \n",
              "3      3  1.514871e-07    306.654159  8.190658e-07      0.024017  \n",
              "4      4  3.050668e-07      0.950000  7.494212e-07      0.392857  "
            ]
          },
          "metadata": {
            "tags": []
          },
          "execution_count": 53
        }
      ]
    },
    {
      "metadata": {
        "id": "NOnkSDSHewGM",
        "colab_type": "code",
        "colab": {
          "autoexec": {
            "startup": false,
            "wait_interval": 0
          }
        }
      },
      "cell_type": "code",
      "source": [
        "# drop the unnecessary index column\n",
        "user_feature_df = user_feature_df.drop('index',axis=1)"
      ],
      "execution_count": 0,
      "outputs": []
    },
    {
      "metadata": {
        "id": "xQHmsu_-ewJl",
        "colab_type": "code",
        "colab": {
          "autoexec": {
            "startup": false,
            "wait_interval": 0
          },
          "base_uri": "https://localhost:8080/",
          "height": 198
        },
        "outputId": "38b7420a-7800-46b7-cf85-3178e3ee2815",
        "executionInfo": {
          "status": "ok",
          "timestamp": 1524586353482,
          "user_tz": 240,
          "elapsed": 286,
          "user": {
            "displayName": "Frank",
            "photoUrl": "//lh6.googleusercontent.com/-z9DYEo91z-o/AAAAAAAAAAI/AAAAAAAABAo/jCCiD3JOmjs/s50-c-k-no/photo.jpg",
            "userId": "117544748237845010101"
          }
        }
      },
      "cell_type": "code",
      "source": [
        "# final merged feature table, contains both vertices info and graph info.\n",
        "user_feature_df.head()"
      ],
      "execution_count": 55,
      "outputs": [
        {
          "output_type": "execute_result",
          "data": {
            "text/html": [
              "<div>\n",
              "<style scoped>\n",
              "    .dataframe tbody tr th:only-of-type {\n",
              "        vertical-align: middle;\n",
              "    }\n",
              "\n",
              "    .dataframe tbody tr th {\n",
              "        vertical-align: top;\n",
              "    }\n",
              "\n",
              "    .dataframe thead th {\n",
              "        text-align: right;\n",
              "    }\n",
              "</style>\n",
              "<table border=\"1\" class=\"dataframe\">\n",
              "  <thead>\n",
              "    <tr style=\"text-align: right;\">\n",
              "      <th></th>\n",
              "      <th>user_id</th>\n",
              "      <th>pull_count</th>\n",
              "      <th>watch_count</th>\n",
              "      <th>commit_count</th>\n",
              "      <th>in_degree</th>\n",
              "      <th>out_degree</th>\n",
              "      <th>pagerank</th>\n",
              "      <th>betweenness</th>\n",
              "      <th>closeness</th>\n",
              "      <th>transitivity</th>\n",
              "    </tr>\n",
              "  </thead>\n",
              "  <tbody>\n",
              "    <tr>\n",
              "      <th>0</th>\n",
              "      <td>1</td>\n",
              "      <td>13</td>\n",
              "      <td>59</td>\n",
              "      <td>55</td>\n",
              "      <td>22</td>\n",
              "      <td>28</td>\n",
              "      <td>1.230313e-06</td>\n",
              "      <td>290.079004</td>\n",
              "      <td>7.907901e-07</td>\n",
              "      <td>0.106312</td>\n",
              "    </tr>\n",
              "    <tr>\n",
              "      <th>1</th>\n",
              "      <td>2</td>\n",
              "      <td>228</td>\n",
              "      <td>706</td>\n",
              "      <td>12846</td>\n",
              "      <td>404</td>\n",
              "      <td>356</td>\n",
              "      <td>3.519563e-05</td>\n",
              "      <td>84875.616545</td>\n",
              "      <td>9.271834e-07</td>\n",
              "      <td>0.015334</td>\n",
              "    </tr>\n",
              "    <tr>\n",
              "      <th>2</th>\n",
              "      <td>4</td>\n",
              "      <td>148</td>\n",
              "      <td>248</td>\n",
              "      <td>1538</td>\n",
              "      <td>79</td>\n",
              "      <td>149</td>\n",
              "      <td>2.922288e-06</td>\n",
              "      <td>5856.666745</td>\n",
              "      <td>8.720820e-07</td>\n",
              "      <td>0.058108</td>\n",
              "    </tr>\n",
              "    <tr>\n",
              "      <th>3</th>\n",
              "      <td>5</td>\n",
              "      <td>1224</td>\n",
              "      <td>64</td>\n",
              "      <td>12251</td>\n",
              "      <td>3</td>\n",
              "      <td>285</td>\n",
              "      <td>1.514871e-07</td>\n",
              "      <td>306.654159</td>\n",
              "      <td>8.190658e-07</td>\n",
              "      <td>0.024017</td>\n",
              "    </tr>\n",
              "    <tr>\n",
              "      <th>4</th>\n",
              "      <td>6</td>\n",
              "      <td>8</td>\n",
              "      <td>49</td>\n",
              "      <td>109913</td>\n",
              "      <td>4</td>\n",
              "      <td>5</td>\n",
              "      <td>3.050668e-07</td>\n",
              "      <td>0.950000</td>\n",
              "      <td>7.494212e-07</td>\n",
              "      <td>0.392857</td>\n",
              "    </tr>\n",
              "  </tbody>\n",
              "</table>\n",
              "</div>"
            ],
            "text/plain": [
              "   user_id  pull_count  watch_count  commit_count  in_degree  out_degree  \\\n",
              "0        1          13           59            55         22          28   \n",
              "1        2         228          706         12846        404         356   \n",
              "2        4         148          248          1538         79         149   \n",
              "3        5        1224           64         12251          3         285   \n",
              "4        6           8           49        109913          4           5   \n",
              "\n",
              "       pagerank   betweenness     closeness  transitivity  \n",
              "0  1.230313e-06    290.079004  7.907901e-07      0.106312  \n",
              "1  3.519563e-05  84875.616545  9.271834e-07      0.015334  \n",
              "2  2.922288e-06   5856.666745  8.720820e-07      0.058108  \n",
              "3  1.514871e-07    306.654159  8.190658e-07      0.024017  \n",
              "4  3.050668e-07      0.950000  7.494212e-07      0.392857  "
            ]
          },
          "metadata": {
            "tags": []
          },
          "execution_count": 55
        }
      ]
    },
    {
      "metadata": {
        "id": "ofjZarZBhtUS",
        "colab_type": "text"
      },
      "cell_type": "markdown",
      "source": [
        "## Export feature table as CSV file."
      ]
    },
    {
      "metadata": {
        "id": "xcMeJ0SOT2l3",
        "colab_type": "code",
        "colab": {
          "autoexec": {
            "startup": false,
            "wait_interval": 0
          }
        }
      },
      "cell_type": "code",
      "source": [
        "from google.colab import files\n",
        "\n",
        "unique_user_df.to_csv('unique_user_metrics.csv')\n",
        "files.download('unique_user_metrics.csv')"
      ],
      "execution_count": 0,
      "outputs": []
    },
    {
      "metadata": {
        "id": "xZUYHEBheuuI",
        "colab_type": "code",
        "colab": {
          "autoexec": {
            "startup": false,
            "wait_interval": 0
          }
        }
      },
      "cell_type": "code",
      "source": [
        "user_feature_df.to_csv('user_feature.csv')\n",
        "files.download('user_feature.csv')"
      ],
      "execution_count": 0,
      "outputs": []
    },
    {
      "metadata": {
        "id": "_AOVU-KDzISo",
        "colab_type": "text"
      },
      "cell_type": "markdown",
      "source": [
        "### In the next step, users are clustered into distinct roles based on the feature table. The clustering modeling and it's visualization is done on Databricks platform using Spark ML. Please refer to the Databricks Spark notebook."
      ]
    },
    {
      "metadata": {
        "id": "bJpz8X9DaLp9",
        "colab_type": "text"
      },
      "cell_type": "markdown",
      "source": [
        "## Bibliograph:\n",
        "***[1] T. Zhu, B. Wang, B. Wu, and C. Zhu, “Role defining using behavior- based clustering in telecommunication network,”  Expert Systems with Applications, vol. 38, no. 4, pp. 3902–3908, 2011.***\n",
        "\n",
        "[2] M. Maia, J. Almeida, and V. Almeida, “Identifying  user behavior in online social networks,” in Proceedings  of the 1st workshop on Social network systems.  ACM, 2008, pp. 1–6.\n",
        "\n",
        "[3] A. J. Lee, F.-C. Yang, H.-C. Tsai, and Y.-Y. Lai, “Discovering content- based behavioral roles in social networks,” Decision Support Systems, vol. 59, pp. 250–261, 2014.\n",
        "\n",
        "[4] Y. Yu, G. Yin, H. Wang, and T. Wang, “Exploring the patterns of social behavior in github,”  in Proceedings  of the 1st international  workshop on crowd-based software development methods and technologies.ACM,2014, pp. 31–36.\n",
        "\n",
        "[5] Lima, Antonio, Luca Rossi, and Mirco Musolesi. \"Coding Together at Scale: GitHub as a Collaborative Social Network.\" ICWSM. 2014.\n",
        "\n",
        "[6] E. Kalliamvakou, G. Gousios, K. Blincoe, L. Singer, D. M. German, and D. Damian, “The promises and perils of mining github,” in Proceedings of the 11th working conference on mining software repositories.  ACM,2014, pp. 92–101.\n",
        "\n",
        "[7] Arthur, David, and Sergei Vassilvitskii. \"k-means++: The advantages of careful seeding.\" Proceedings of the eighteenth annual ACM-SIAM symposium on Discrete algorithms. Society for Industrial and Applied Mathematics, 2007.\n",
        "\n",
        "[8] Steinbach, Michael, George Karypis, and Vipin Kumar. \"A comparison of document clustering techniques.\" KDD workshop on text mining. Vol. 400. No. 1. 2000.\n",
        "\n",
        "[9] Al Hasan, Mohammad, et al. \"Link prediction using supervised learning.\" SDM06: workshop on link analysis, counter-terrorism and security. 2006."
      ]
    }
  ]
}